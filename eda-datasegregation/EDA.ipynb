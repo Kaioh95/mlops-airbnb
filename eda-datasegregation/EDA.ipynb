{
 "cells": [
  {
   "cell_type": "markdown",
   "metadata": {
    "id": "0I4pgzLVtBTP",
    "tags": []
   },
   "source": [
    "# 1.0 Airbnb regression problem (Part I)\n",
    "\n"
   ]
  },
  {
   "cell_type": "markdown",
   "metadata": {
    "id": "Dh34gim6KPtT",
    "tags": []
   },
   "source": [
    "## 1.1 Dataset description"
   ]
  },
  {
   "cell_type": "markdown",
   "metadata": {
    "id": "iE8OJoDZ5AFK"
   },
   "source": [
    "\n",
    "\n",
    "We'll be looking at individual income in the United States. The **data** is from the **1994 census**, and contains information on an individual's **marital status**, **age**, **type of work**, and more. The **target column**, or what we want to predict, is whether individuals make less than or equal to 50k a year, or more than **50k a year**.\n",
    "\n",
    "You can download the data from the [University of California, Irvine's website](http://archive.ics.uci.edu/ml/datasets/Adult).\n",
    "\n",
    "Let's take the following steps:\n",
    "\n",
    "1. Load Libraries\n",
    "2. Fetch Data, including EDA\n",
    "3. Pre-procesing\n",
    "4. Data Segregation\n",
    "\n",
    "<center><img width=\"600\" src=\"https://drive.google.com/uc?export=view&id=1a-nyAPNPiVh-Xb2Pu2t2p-BhSvHJS0pO\"></center>"
   ]
  },
  {
   "cell_type": "markdown",
   "metadata": {
    "id": "7UpxKxU1Ej7f"
   },
   "source": [
    "## 1.2 Load libraries"
   ]
  },
  {
   "cell_type": "code",
   "execution_count": 120,
   "metadata": {
    "colab": {
     "base_uri": "https://localhost:8080/"
    },
    "id": "LASaVZuhRJlL",
    "outputId": "d1cea33d-bef5-46b8-cdf1-72f0358886ba",
    "tags": []
   },
   "outputs": [],
   "source": [
    "import wandb\n",
    "import matplotlib.pyplot as plt\n",
    "import seaborn as sns\n",
    "import pandas as pd\n",
    "import numpy as np\n",
    "from pandas_profiling import ProfileReport\n",
    "from sklearn.model_selection import train_test_split\n",
    "import tempfile\n",
    "import os"
   ]
  },
  {
   "cell_type": "markdown",
   "metadata": {
    "id": "Z74pHa-qHVrT"
   },
   "source": [
    "## 1.3 Get data & Exploratory Data Analysis (EDA)"
   ]
  },
  {
   "cell_type": "markdown",
   "metadata": {
    "id": "MxzlOezZLWQ_"
   },
   "source": [
    "### 1.3.1 Create the raw_data artifact"
   ]
  },
  {
   "cell_type": "code",
   "execution_count": 121,
   "metadata": {
    "colab": {
     "base_uri": "https://localhost:8080/",
     "height": 339
    },
    "id": "i_n2KZu0usUv",
    "outputId": "5b9f5ab0-1360-4cc2-8647-01b1573fa186",
    "tags": []
   },
   "outputs": [],
   "source": [
    "# columns used \n",
    "columns = [\"neighbourhood_cleansed\",\"property_type\",\"room_type\",\n",
    "           \"accommodates\",\"bathrooms_text\",\"bedrooms\",\"beds\",\"amenities\",\n",
    "           \"price\",\"minimum_nights\",\"maximum_nights\",\"minimum_minimum_nights\",\n",
    "           \"maximum_minimum_nights\",\"minimum_maximum_nights\",\"maximum_maximum_nights\",\n",
    "           \"minimum_nights_avg_ntm\",\"maximum_nights_avg_ntm\",\"has_availability\",\n",
    "           \"availability_30\",\"availability_60\",\"availability_90\",\n",
    "           \"availability_365\",\"number_of_reviews\",\n",
    "           \"number_of_reviews_ltm\",\"number_of_reviews_l30d\",\n",
    "           \"review_scores_rating\",\"review_scores_accuracy\",\n",
    "           \"review_scores_cleanliness\",\"review_scores_checkin\",\"review_scores_communication\",\n",
    "           \"review_scores_location\",\"review_scores_value\",\n",
    "           \"instant_bookable\",\"calculated_host_listings_count\",\n",
    "           \"calculated_host_listings_count_entire_homes\",\n",
    "           \"calculated_host_listings_count_private_rooms\",\n",
    "           \"calculated_host_listings_count_shared_rooms\",\"reviews_per_month\"]\n",
    "# importing the dataset\n",
    "data = pd.read_csv(\"https://raw.githubusercontent.com/Kaioh95/mlops-airbnb/main/data/listings.csv\")"
   ]
  },
  {
   "cell_type": "code",
   "execution_count": 122,
   "metadata": {},
   "outputs": [
    {
     "name": "stdout",
     "output_type": "stream",
     "text": [
      "<class 'pandas.core.frame.DataFrame'>\n",
      "RangeIndex: 24549 entries, 0 to 24548\n",
      "Data columns (total 74 columns):\n",
      " #   Column                                        Non-Null Count  Dtype  \n",
      "---  ------                                        --------------  -----  \n",
      " 0   id                                            24549 non-null  int64  \n",
      " 1   listing_url                                   24549 non-null  object \n",
      " 2   scrape_id                                     24549 non-null  int64  \n",
      " 3   last_scraped                                  24549 non-null  object \n",
      " 4   name                                          24528 non-null  object \n",
      " 5   description                                   23336 non-null  object \n",
      " 6   neighborhood_overview                         13212 non-null  object \n",
      " 7   picture_url                                   24549 non-null  object \n",
      " 8   host_id                                       24549 non-null  int64  \n",
      " 9   host_url                                      24549 non-null  object \n",
      " 10  host_name                                     24534 non-null  object \n",
      " 11  host_since                                    24534 non-null  object \n",
      " 12  host_location                                 24463 non-null  object \n",
      " 13  host_about                                    12095 non-null  object \n",
      " 14  host_response_time                            20668 non-null  object \n",
      " 15  host_response_rate                            20668 non-null  object \n",
      " 16  host_acceptance_rate                          18902 non-null  object \n",
      " 17  host_is_superhost                             24534 non-null  object \n",
      " 18  host_thumbnail_url                            24534 non-null  object \n",
      " 19  host_picture_url                              24534 non-null  object \n",
      " 20  host_neighbourhood                            12768 non-null  object \n",
      " 21  host_listings_count                           24534 non-null  float64\n",
      " 22  host_total_listings_count                     24534 non-null  float64\n",
      " 23  host_verifications                            24549 non-null  object \n",
      " 24  host_has_profile_pic                          24534 non-null  object \n",
      " 25  host_identity_verified                        24534 non-null  object \n",
      " 26  neighbourhood                                 13212 non-null  object \n",
      " 27  neighbourhood_cleansed                        24549 non-null  object \n",
      " 28  neighbourhood_group_cleansed                  0 non-null      float64\n",
      " 29  latitude                                      24549 non-null  float64\n",
      " 30  longitude                                     24549 non-null  float64\n",
      " 31  property_type                                 24549 non-null  object \n",
      " 32  room_type                                     24549 non-null  object \n",
      " 33  accommodates                                  24549 non-null  int64  \n",
      " 34  bathrooms                                     0 non-null      float64\n",
      " 35  bathrooms_text                                24485 non-null  object \n",
      " 36  bedrooms                                      23059 non-null  float64\n",
      " 37  beds                                          24202 non-null  float64\n",
      " 38  amenities                                     24549 non-null  object \n",
      " 39  price                                         24549 non-null  object \n",
      " 40  minimum_nights                                24549 non-null  int64  \n",
      " 41  maximum_nights                                24549 non-null  int64  \n",
      " 42  minimum_minimum_nights                        24549 non-null  int64  \n",
      " 43  maximum_minimum_nights                        24549 non-null  int64  \n",
      " 44  minimum_maximum_nights                        24549 non-null  int64  \n",
      " 45  maximum_maximum_nights                        24549 non-null  int64  \n",
      " 46  minimum_nights_avg_ntm                        24549 non-null  float64\n",
      " 47  maximum_nights_avg_ntm                        24549 non-null  float64\n",
      " 48  calendar_updated                              0 non-null      float64\n",
      " 49  has_availability                              24549 non-null  object \n",
      " 50  availability_30                               24549 non-null  int64  \n",
      " 51  availability_60                               24549 non-null  int64  \n",
      " 52  availability_90                               24549 non-null  int64  \n",
      " 53  availability_365                              24549 non-null  int64  \n",
      " 54  calendar_last_scraped                         24549 non-null  object \n",
      " 55  number_of_reviews                             24549 non-null  int64  \n",
      " 56  number_of_reviews_ltm                         24549 non-null  int64  \n",
      " 57  number_of_reviews_l30d                        24549 non-null  int64  \n",
      " 58  first_review                                  15588 non-null  object \n",
      " 59  last_review                                   15588 non-null  object \n",
      " 60  review_scores_rating                          15588 non-null  float64\n",
      " 61  review_scores_accuracy                        15213 non-null  float64\n",
      " 62  review_scores_cleanliness                     15213 non-null  float64\n",
      " 63  review_scores_checkin                         15213 non-null  float64\n",
      " 64  review_scores_communication                   15214 non-null  float64\n",
      " 65  review_scores_location                        15212 non-null  float64\n",
      " 66  review_scores_value                           15214 non-null  float64\n",
      " 67  license                                       0 non-null      float64\n",
      " 68  instant_bookable                              24549 non-null  object \n",
      " 69  calculated_host_listings_count                24549 non-null  int64  \n",
      " 70  calculated_host_listings_count_entire_homes   24549 non-null  int64  \n",
      " 71  calculated_host_listings_count_private_rooms  24549 non-null  int64  \n",
      " 72  calculated_host_listings_count_shared_rooms   24549 non-null  int64  \n",
      " 73  reviews_per_month                             15588 non-null  float64\n",
      "dtypes: float64(20), int64(21), object(33)\n",
      "memory usage: 13.9+ MB\n"
     ]
    }
   ],
   "source": [
    "data.info()"
   ]
  },
  {
   "cell_type": "code",
   "execution_count": 123,
   "metadata": {
    "id": "j3Otnz1-UYre",
    "tags": []
   },
   "outputs": [],
   "source": [
    "data.to_csv(\"raw_data.csv\",index=False)"
   ]
  },
  {
   "cell_type": "code",
   "execution_count": 124,
   "metadata": {
    "tags": []
   },
   "outputs": [
    {
     "name": "stderr",
     "output_type": "stream",
     "text": [
      "\u001b[34m\u001b[1mwandb\u001b[0m: You can find your API key in your browser here: https://wandb.ai/authorize\n"
     ]
    },
    {
     "name": "stdin",
     "output_type": "stream",
     "text": [
      "\u001b[34m\u001b[1mwandb\u001b[0m: Paste an API key from your profile and hit enter:  ········································\n"
     ]
    },
    {
     "name": "stderr",
     "output_type": "stream",
     "text": [
      "\u001b[34m\u001b[1mwandb\u001b[0m: Appending key for api.wandb.ai to your netrc file: /home/kaio/.netrc\n"
     ]
    },
    {
     "data": {
      "text/plain": [
       "True"
      ]
     },
     "execution_count": 124,
     "metadata": {},
     "output_type": "execute_result"
    }
   ],
   "source": [
    "# Login to Weights & Biases\n",
    "wandb.login(relogin=True)"
   ]
  },
  {
   "cell_type": "code",
   "execution_count": 125,
   "metadata": {
    "id": "l7lg2qtMUFGW",
    "tags": []
   },
   "outputs": [
    {
     "name": "stdout",
     "output_type": "stream",
     "text": [
      "\u001b[34m\u001b[1mwandb\u001b[0m: Uploading file raw_data.csv to: \"mlops-kaio/airbnb_eda/raw_data.csv:latest\" (raw_data)\n",
      "\u001b[34m\u001b[1mwandb\u001b[0m: Currently logged in as: \u001b[33mmlops-kaio\u001b[0m (use `wandb login --relogin` to force relogin)\n",
      "\u001b[34m\u001b[1mwandb\u001b[0m: wandb version 0.12.20 is available!  To upgrade, please run:\n",
      "\u001b[34m\u001b[1mwandb\u001b[0m:  $ pip install wandb --upgrade\n",
      "\u001b[34m\u001b[1mwandb\u001b[0m: Tracking run with wandb version 0.12.6\n",
      "\u001b[34m\u001b[1mwandb\u001b[0m: Syncing run \u001b[33mcolorful-snowball-1\u001b[0m\n",
      "\u001b[34m\u001b[1mwandb\u001b[0m:  View project at \u001b[34m\u001b[4mhttps://wandb.ai/mlops-kaio/airbnb_eda\u001b[0m\n",
      "\u001b[34m\u001b[1mwandb\u001b[0m:  View run at \u001b[34m\u001b[4mhttps://wandb.ai/mlops-kaio/airbnb_eda/runs/3pm92xua\u001b[0m\n",
      "\u001b[34m\u001b[1mwandb\u001b[0m: Run data is saved locally in /home/kaio/Documentos/9-UltSemestre/mlops/mlops-airbnb/eda/download-init-eda/wandb/run-20220701_163123-3pm92xua\n",
      "\u001b[34m\u001b[1mwandb\u001b[0m: Run `wandb offline` to turn off syncing.\n",
      "\n",
      "Artifact uploaded, use this artifact in a run by adding:\n",
      "\n",
      "    artifact = run.use_artifact(\"mlops-kaio/airbnb_eda/raw_data.csv:latest\")\n",
      "\n",
      "\n",
      "\u001b[34m\u001b[1mwandb\u001b[0m: Waiting for W&B process to finish, PID 20300... (success).\n",
      "\u001b[34m\u001b[1mwandb\u001b[0m:                                                                                \n",
      "\u001b[34m\u001b[1mwandb\u001b[0m: Synced 6 W&B file(s), 0 media file(s), 1 artifact file(s) and 0 other file(s)\n",
      "\u001b[34m\u001b[1mwandb\u001b[0m: Synced \u001b[33mcolorful-snowball-1\u001b[0m: \u001b[34mhttps://wandb.ai/mlops-kaio/airbnb_eda/runs/3pm92xua\u001b[0m\n",
      "\u001b[34m\u001b[1mwandb\u001b[0m: Find logs at: ./wandb/run-20220701_163123-3pm92xua/logs/debug.log\n",
      "\u001b[34m\u001b[1mwandb\u001b[0m: \n"
     ]
    }
   ],
   "source": [
    "# Send the raw_data.csv to the Wandb storing it as an artifact\n",
    "!wandb artifact put \\\n",
    "      --name airbnb_eda/raw_data.csv \\\n",
    "      --type raw_data \\\n",
    "      --description \"The raw data from airbnb\" raw_data.csv"
   ]
  },
  {
   "cell_type": "markdown",
   "metadata": {
    "id": "18RAS5kFXPAe"
   },
   "source": [
    "### 1.3.2 Download raw_data artifact from Wandb"
   ]
  },
  {
   "cell_type": "code",
   "execution_count": 126,
   "metadata": {
    "colab": {
     "base_uri": "https://localhost:8080/",
     "height": 52
    },
    "id": "5kKY7pRNSGo9",
    "outputId": "9e8de087-86c4-433d-b424-c7b346b37fb8"
   },
   "outputs": [
    {
     "name": "stderr",
     "output_type": "stream",
     "text": [
      "\u001b[34m\u001b[1mwandb\u001b[0m: wandb version 0.12.20 is available!  To upgrade, please run:\n",
      "\u001b[34m\u001b[1mwandb\u001b[0m:  $ pip install wandb --upgrade\n"
     ]
    },
    {
     "data": {
      "text/html": [
       "\n",
       "                    Syncing run <strong><a href=\"https://wandb.ai/mlops-kaio/airbnb_eda/runs/2td9ahsd\" target=\"_blank\">cerulean-meadow-2</a></strong> to <a href=\"https://wandb.ai/mlops-kaio/airbnb_eda\" target=\"_blank\">Weights & Biases</a> (<a href=\"https://docs.wandb.com/integrations/jupyter.html\" target=\"_blank\">docs</a>).<br/>\n",
       "\n",
       "                "
      ],
      "text/plain": [
       "<IPython.core.display.HTML object>"
      ]
     },
     "metadata": {},
     "output_type": "display_data"
    }
   ],
   "source": [
    "# save_code tracking all changes of the notebook and sync with Wandb\n",
    "run = wandb.init(project=\"airbnb_eda\", job_type=\"preprocessing\", save_code=True)"
   ]
  },
  {
   "cell_type": "code",
   "execution_count": 127,
   "metadata": {
    "id": "H6eyFp6XTLyf"
   },
   "outputs": [],
   "source": [
    "# donwload the latest version of artifact raw_data.csv\n",
    "artifact = run.use_artifact(\"airbnb_eda/raw_data.csv:latest\")\n",
    "\n",
    "# create a dataframe from the artifact\n",
    "df = pd.read_csv(artifact.file())"
   ]
  },
  {
   "cell_type": "markdown",
   "metadata": {
    "id": "PnBYLNwlBFrO"
   },
   "source": [
    "### 1.3.3 Pandas Profilling"
   ]
  },
  {
   "cell_type": "code",
   "execution_count": 128,
   "metadata": {
    "id": "vGOWSZJoI-s_",
    "tags": []
   },
   "outputs": [],
   "source": [
    "#ProfileReport(df, title=\"Pandas Profiling Report\", explorative=True)"
   ]
  },
  {
   "cell_type": "code",
   "execution_count": 129,
   "metadata": {},
   "outputs": [],
   "source": [
    "df = df[columns]"
   ]
  },
  {
   "cell_type": "code",
   "execution_count": 130,
   "metadata": {},
   "outputs": [],
   "source": [
    "df = df.dropna()"
   ]
  },
  {
   "cell_type": "code",
   "execution_count": 131,
   "metadata": {},
   "outputs": [
    {
     "name": "stderr",
     "output_type": "stream",
     "text": [
      "<ipython-input-131-7afb31dbaeba>:1: FutureWarning: The default value of regex will change from True to False in a future version. In addition, single character regular expressions will*not* be treated as literal strings when regex=True.\n",
      "  df['price'] = df['price'].str.replace(\"$\", \"\")\n"
     ]
    }
   ],
   "source": [
    "df['price'] = df['price'].str.replace(\"$\", \"\")\n",
    "df['price'] = df['price'].str.replace(\",\", \"\")\n",
    "df['price'] = df['price'].astype(\"float\")\n",
    "\n",
    "#df['bathrooms_text'] = df['bathrooms_text'].str.replace(\"baths\", \"\")\n",
    "#df['bathrooms_text'] = df['bathrooms_text'].str.replace(\"bath\", \"\")\n",
    "#df['bathrooms_text'] = df['bathrooms_text'].astype(\"float\")"
   ]
  },
  {
   "cell_type": "code",
   "execution_count": 132,
   "metadata": {},
   "outputs": [
    {
     "data": {
      "text/plain": [
       "0         350.0\n",
       "1         296.0\n",
       "2         387.0\n",
       "3         172.0\n",
       "4         260.0\n",
       "          ...  \n",
       "24286    1197.0\n",
       "24292     775.0\n",
       "24350     256.0\n",
       "24499     221.0\n",
       "24545     460.0\n",
       "Name: price, Length: 14013, dtype: float64"
      ]
     },
     "execution_count": 132,
     "metadata": {},
     "output_type": "execute_result"
    }
   ],
   "source": [
    "df['price']"
   ]
  },
  {
   "cell_type": "code",
   "execution_count": 133,
   "metadata": {},
   "outputs": [
    {
     "data": {
      "text/plain": [
       "neighbourhood_cleansed                          0\n",
       "property_type                                   0\n",
       "room_type                                       0\n",
       "accommodates                                    0\n",
       "bathrooms_text                                  0\n",
       "bedrooms                                        0\n",
       "beds                                            0\n",
       "amenities                                       0\n",
       "price                                           0\n",
       "minimum_nights                                  0\n",
       "maximum_nights                                  0\n",
       "minimum_minimum_nights                          0\n",
       "maximum_minimum_nights                          0\n",
       "minimum_maximum_nights                          0\n",
       "maximum_maximum_nights                          0\n",
       "minimum_nights_avg_ntm                          0\n",
       "maximum_nights_avg_ntm                          0\n",
       "has_availability                                0\n",
       "availability_30                                 0\n",
       "availability_60                                 0\n",
       "availability_90                                 0\n",
       "availability_365                                0\n",
       "number_of_reviews                               0\n",
       "number_of_reviews_ltm                           0\n",
       "number_of_reviews_l30d                          0\n",
       "review_scores_rating                            0\n",
       "review_scores_accuracy                          0\n",
       "review_scores_cleanliness                       0\n",
       "review_scores_checkin                           0\n",
       "review_scores_communication                     0\n",
       "review_scores_location                          0\n",
       "review_scores_value                             0\n",
       "instant_bookable                                0\n",
       "calculated_host_listings_count                  0\n",
       "calculated_host_listings_count_entire_homes     0\n",
       "calculated_host_listings_count_private_rooms    0\n",
       "calculated_host_listings_count_shared_rooms     0\n",
       "reviews_per_month                               0\n",
       "dtype: int64"
      ]
     },
     "execution_count": 133,
     "metadata": {},
     "output_type": "execute_result"
    }
   ],
   "source": [
    "df.isnull().sum()"
   ]
  },
  {
   "cell_type": "code",
   "execution_count": 134,
   "metadata": {},
   "outputs": [
    {
     "name": "stdout",
     "output_type": "stream",
     "text": [
      "<class 'pandas.core.frame.DataFrame'>\n",
      "Int64Index: 14013 entries, 0 to 24545\n",
      "Data columns (total 38 columns):\n",
      " #   Column                                        Non-Null Count  Dtype  \n",
      "---  ------                                        --------------  -----  \n",
      " 0   neighbourhood_cleansed                        14013 non-null  object \n",
      " 1   property_type                                 14013 non-null  object \n",
      " 2   room_type                                     14013 non-null  object \n",
      " 3   accommodates                                  14013 non-null  int64  \n",
      " 4   bathrooms_text                                14013 non-null  object \n",
      " 5   bedrooms                                      14013 non-null  float64\n",
      " 6   beds                                          14013 non-null  float64\n",
      " 7   amenities                                     14013 non-null  object \n",
      " 8   price                                         14013 non-null  float64\n",
      " 9   minimum_nights                                14013 non-null  int64  \n",
      " 10  maximum_nights                                14013 non-null  int64  \n",
      " 11  minimum_minimum_nights                        14013 non-null  int64  \n",
      " 12  maximum_minimum_nights                        14013 non-null  int64  \n",
      " 13  minimum_maximum_nights                        14013 non-null  int64  \n",
      " 14  maximum_maximum_nights                        14013 non-null  int64  \n",
      " 15  minimum_nights_avg_ntm                        14013 non-null  float64\n",
      " 16  maximum_nights_avg_ntm                        14013 non-null  float64\n",
      " 17  has_availability                              14013 non-null  object \n",
      " 18  availability_30                               14013 non-null  int64  \n",
      " 19  availability_60                               14013 non-null  int64  \n",
      " 20  availability_90                               14013 non-null  int64  \n",
      " 21  availability_365                              14013 non-null  int64  \n",
      " 22  number_of_reviews                             14013 non-null  int64  \n",
      " 23  number_of_reviews_ltm                         14013 non-null  int64  \n",
      " 24  number_of_reviews_l30d                        14013 non-null  int64  \n",
      " 25  review_scores_rating                          14013 non-null  float64\n",
      " 26  review_scores_accuracy                        14013 non-null  float64\n",
      " 27  review_scores_cleanliness                     14013 non-null  float64\n",
      " 28  review_scores_checkin                         14013 non-null  float64\n",
      " 29  review_scores_communication                   14013 non-null  float64\n",
      " 30  review_scores_location                        14013 non-null  float64\n",
      " 31  review_scores_value                           14013 non-null  float64\n",
      " 32  instant_bookable                              14013 non-null  object \n",
      " 33  calculated_host_listings_count                14013 non-null  int64  \n",
      " 34  calculated_host_listings_count_entire_homes   14013 non-null  int64  \n",
      " 35  calculated_host_listings_count_private_rooms  14013 non-null  int64  \n",
      " 36  calculated_host_listings_count_shared_rooms   14013 non-null  int64  \n",
      " 37  reviews_per_month                             14013 non-null  float64\n",
      "dtypes: float64(13), int64(18), object(7)\n",
      "memory usage: 4.2+ MB\n"
     ]
    }
   ],
   "source": [
    "df.info()"
   ]
  },
  {
   "cell_type": "code",
   "execution_count": 135,
   "metadata": {},
   "outputs": [
    {
     "data": {
      "text/html": [
       "<div>\n",
       "<style scoped>\n",
       "    .dataframe tbody tr th:only-of-type {\n",
       "        vertical-align: middle;\n",
       "    }\n",
       "\n",
       "    .dataframe tbody tr th {\n",
       "        vertical-align: top;\n",
       "    }\n",
       "\n",
       "    .dataframe thead th {\n",
       "        text-align: right;\n",
       "    }\n",
       "</style>\n",
       "<table border=\"1\" class=\"dataframe\">\n",
       "  <thead>\n",
       "    <tr style=\"text-align: right;\">\n",
       "      <th></th>\n",
       "      <th>accommodates</th>\n",
       "      <th>bedrooms</th>\n",
       "      <th>beds</th>\n",
       "      <th>price</th>\n",
       "      <th>minimum_nights</th>\n",
       "      <th>maximum_nights</th>\n",
       "      <th>minimum_minimum_nights</th>\n",
       "      <th>maximum_minimum_nights</th>\n",
       "      <th>minimum_maximum_nights</th>\n",
       "      <th>maximum_maximum_nights</th>\n",
       "      <th>...</th>\n",
       "      <th>review_scores_cleanliness</th>\n",
       "      <th>review_scores_checkin</th>\n",
       "      <th>review_scores_communication</th>\n",
       "      <th>review_scores_location</th>\n",
       "      <th>review_scores_value</th>\n",
       "      <th>calculated_host_listings_count</th>\n",
       "      <th>calculated_host_listings_count_entire_homes</th>\n",
       "      <th>calculated_host_listings_count_private_rooms</th>\n",
       "      <th>calculated_host_listings_count_shared_rooms</th>\n",
       "      <th>reviews_per_month</th>\n",
       "    </tr>\n",
       "  </thead>\n",
       "  <tbody>\n",
       "    <tr>\n",
       "      <th>count</th>\n",
       "      <td>14013.000000</td>\n",
       "      <td>14013.000000</td>\n",
       "      <td>14013.000000</td>\n",
       "      <td>14013.000000</td>\n",
       "      <td>14013.000000</td>\n",
       "      <td>14013.000000</td>\n",
       "      <td>14013.000000</td>\n",
       "      <td>14013.000000</td>\n",
       "      <td>14013.000000</td>\n",
       "      <td>14013.000000</td>\n",
       "      <td>...</td>\n",
       "      <td>14013.000000</td>\n",
       "      <td>14013.000000</td>\n",
       "      <td>14013.000000</td>\n",
       "      <td>14013.000000</td>\n",
       "      <td>14013.000000</td>\n",
       "      <td>14013.000000</td>\n",
       "      <td>14013.000000</td>\n",
       "      <td>14013.000000</td>\n",
       "      <td>14013.000000</td>\n",
       "      <td>14013.000000</td>\n",
       "    </tr>\n",
       "    <tr>\n",
       "      <th>mean</th>\n",
       "      <td>4.127025</td>\n",
       "      <td>1.629772</td>\n",
       "      <td>2.626846</td>\n",
       "      <td>797.088204</td>\n",
       "      <td>3.936273</td>\n",
       "      <td>623.047813</td>\n",
       "      <td>3.796689</td>\n",
       "      <td>4.928067</td>\n",
       "      <td>737.240063</td>\n",
       "      <td>771.809177</td>\n",
       "      <td>...</td>\n",
       "      <td>4.680081</td>\n",
       "      <td>4.869478</td>\n",
       "      <td>4.850628</td>\n",
       "      <td>4.851694</td>\n",
       "      <td>4.650208</td>\n",
       "      <td>6.522872</td>\n",
       "      <td>5.718547</td>\n",
       "      <td>0.702919</td>\n",
       "      <td>0.077357</td>\n",
       "      <td>0.692056</td>\n",
       "    </tr>\n",
       "    <tr>\n",
       "      <th>std</th>\n",
       "      <td>2.369938</td>\n",
       "      <td>0.993170</td>\n",
       "      <td>2.136870</td>\n",
       "      <td>2925.722307</td>\n",
       "      <td>16.894587</td>\n",
       "      <td>693.480278</td>\n",
       "      <td>16.714244</td>\n",
       "      <td>18.766200</td>\n",
       "      <td>684.154999</td>\n",
       "      <td>674.586231</td>\n",
       "      <td>...</td>\n",
       "      <td>0.551408</td>\n",
       "      <td>0.397769</td>\n",
       "      <td>0.419797</td>\n",
       "      <td>0.382591</td>\n",
       "      <td>0.505536</td>\n",
       "      <td>17.203389</td>\n",
       "      <td>16.959760</td>\n",
       "      <td>1.559191</td>\n",
       "      <td>0.577565</td>\n",
       "      <td>0.926727</td>\n",
       "    </tr>\n",
       "    <tr>\n",
       "      <th>min</th>\n",
       "      <td>1.000000</td>\n",
       "      <td>1.000000</td>\n",
       "      <td>1.000000</td>\n",
       "      <td>33.000000</td>\n",
       "      <td>1.000000</td>\n",
       "      <td>1.000000</td>\n",
       "      <td>1.000000</td>\n",
       "      <td>1.000000</td>\n",
       "      <td>1.000000</td>\n",
       "      <td>1.000000</td>\n",
       "      <td>...</td>\n",
       "      <td>0.000000</td>\n",
       "      <td>0.000000</td>\n",
       "      <td>1.000000</td>\n",
       "      <td>1.000000</td>\n",
       "      <td>1.000000</td>\n",
       "      <td>1.000000</td>\n",
       "      <td>0.000000</td>\n",
       "      <td>0.000000</td>\n",
       "      <td>0.000000</td>\n",
       "      <td>0.010000</td>\n",
       "    </tr>\n",
       "    <tr>\n",
       "      <th>25%</th>\n",
       "      <td>2.000000</td>\n",
       "      <td>1.000000</td>\n",
       "      <td>1.000000</td>\n",
       "      <td>236.000000</td>\n",
       "      <td>2.000000</td>\n",
       "      <td>60.000000</td>\n",
       "      <td>2.000000</td>\n",
       "      <td>2.000000</td>\n",
       "      <td>90.000000</td>\n",
       "      <td>90.000000</td>\n",
       "      <td>...</td>\n",
       "      <td>4.600000</td>\n",
       "      <td>4.900000</td>\n",
       "      <td>4.870000</td>\n",
       "      <td>4.860000</td>\n",
       "      <td>4.540000</td>\n",
       "      <td>1.000000</td>\n",
       "      <td>1.000000</td>\n",
       "      <td>0.000000</td>\n",
       "      <td>0.000000</td>\n",
       "      <td>0.100000</td>\n",
       "    </tr>\n",
       "    <tr>\n",
       "      <th>50%</th>\n",
       "      <td>4.000000</td>\n",
       "      <td>1.000000</td>\n",
       "      <td>2.000000</td>\n",
       "      <td>431.000000</td>\n",
       "      <td>2.000000</td>\n",
       "      <td>900.000000</td>\n",
       "      <td>2.000000</td>\n",
       "      <td>3.000000</td>\n",
       "      <td>1125.000000</td>\n",
       "      <td>1125.000000</td>\n",
       "      <td>...</td>\n",
       "      <td>4.870000</td>\n",
       "      <td>5.000000</td>\n",
       "      <td>5.000000</td>\n",
       "      <td>5.000000</td>\n",
       "      <td>4.780000</td>\n",
       "      <td>2.000000</td>\n",
       "      <td>1.000000</td>\n",
       "      <td>0.000000</td>\n",
       "      <td>0.000000</td>\n",
       "      <td>0.330000</td>\n",
       "    </tr>\n",
       "    <tr>\n",
       "      <th>75%</th>\n",
       "      <td>5.000000</td>\n",
       "      <td>2.000000</td>\n",
       "      <td>3.000000</td>\n",
       "      <td>800.000000</td>\n",
       "      <td>3.000000</td>\n",
       "      <td>1125.000000</td>\n",
       "      <td>3.000000</td>\n",
       "      <td>5.000000</td>\n",
       "      <td>1125.000000</td>\n",
       "      <td>1125.000000</td>\n",
       "      <td>...</td>\n",
       "      <td>5.000000</td>\n",
       "      <td>5.000000</td>\n",
       "      <td>5.000000</td>\n",
       "      <td>5.000000</td>\n",
       "      <td>5.000000</td>\n",
       "      <td>4.000000</td>\n",
       "      <td>2.000000</td>\n",
       "      <td>1.000000</td>\n",
       "      <td>0.000000</td>\n",
       "      <td>0.960000</td>\n",
       "    </tr>\n",
       "    <tr>\n",
       "      <th>max</th>\n",
       "      <td>16.000000</td>\n",
       "      <td>20.000000</td>\n",
       "      <td>50.000000</td>\n",
       "      <td>129080.000000</td>\n",
       "      <td>1000.000000</td>\n",
       "      <td>47036.000000</td>\n",
       "      <td>1000.000000</td>\n",
       "      <td>1000.000000</td>\n",
       "      <td>47036.000000</td>\n",
       "      <td>47036.000000</td>\n",
       "      <td>...</td>\n",
       "      <td>5.000000</td>\n",
       "      <td>5.000000</td>\n",
       "      <td>5.000000</td>\n",
       "      <td>5.000000</td>\n",
       "      <td>5.000000</td>\n",
       "      <td>176.000000</td>\n",
       "      <td>172.000000</td>\n",
       "      <td>13.000000</td>\n",
       "      <td>9.000000</td>\n",
       "      <td>21.790000</td>\n",
       "    </tr>\n",
       "  </tbody>\n",
       "</table>\n",
       "<p>8 rows × 31 columns</p>\n",
       "</div>"
      ],
      "text/plain": [
       "       accommodates      bedrooms          beds          price  \\\n",
       "count  14013.000000  14013.000000  14013.000000   14013.000000   \n",
       "mean       4.127025      1.629772      2.626846     797.088204   \n",
       "std        2.369938      0.993170      2.136870    2925.722307   \n",
       "min        1.000000      1.000000      1.000000      33.000000   \n",
       "25%        2.000000      1.000000      1.000000     236.000000   \n",
       "50%        4.000000      1.000000      2.000000     431.000000   \n",
       "75%        5.000000      2.000000      3.000000     800.000000   \n",
       "max       16.000000     20.000000     50.000000  129080.000000   \n",
       "\n",
       "       minimum_nights  maximum_nights  minimum_minimum_nights  \\\n",
       "count    14013.000000    14013.000000            14013.000000   \n",
       "mean         3.936273      623.047813                3.796689   \n",
       "std         16.894587      693.480278               16.714244   \n",
       "min          1.000000        1.000000                1.000000   \n",
       "25%          2.000000       60.000000                2.000000   \n",
       "50%          2.000000      900.000000                2.000000   \n",
       "75%          3.000000     1125.000000                3.000000   \n",
       "max       1000.000000    47036.000000             1000.000000   \n",
       "\n",
       "       maximum_minimum_nights  minimum_maximum_nights  maximum_maximum_nights  \\\n",
       "count            14013.000000            14013.000000            14013.000000   \n",
       "mean                 4.928067              737.240063              771.809177   \n",
       "std                 18.766200              684.154999              674.586231   \n",
       "min                  1.000000                1.000000                1.000000   \n",
       "25%                  2.000000               90.000000               90.000000   \n",
       "50%                  3.000000             1125.000000             1125.000000   \n",
       "75%                  5.000000             1125.000000             1125.000000   \n",
       "max               1000.000000            47036.000000            47036.000000   \n",
       "\n",
       "       ...  review_scores_cleanliness  review_scores_checkin  \\\n",
       "count  ...               14013.000000           14013.000000   \n",
       "mean   ...                   4.680081               4.869478   \n",
       "std    ...                   0.551408               0.397769   \n",
       "min    ...                   0.000000               0.000000   \n",
       "25%    ...                   4.600000               4.900000   \n",
       "50%    ...                   4.870000               5.000000   \n",
       "75%    ...                   5.000000               5.000000   \n",
       "max    ...                   5.000000               5.000000   \n",
       "\n",
       "       review_scores_communication  review_scores_location  \\\n",
       "count                 14013.000000            14013.000000   \n",
       "mean                      4.850628                4.851694   \n",
       "std                       0.419797                0.382591   \n",
       "min                       1.000000                1.000000   \n",
       "25%                       4.870000                4.860000   \n",
       "50%                       5.000000                5.000000   \n",
       "75%                       5.000000                5.000000   \n",
       "max                       5.000000                5.000000   \n",
       "\n",
       "       review_scores_value  calculated_host_listings_count  \\\n",
       "count         14013.000000                    14013.000000   \n",
       "mean              4.650208                        6.522872   \n",
       "std               0.505536                       17.203389   \n",
       "min               1.000000                        1.000000   \n",
       "25%               4.540000                        1.000000   \n",
       "50%               4.780000                        2.000000   \n",
       "75%               5.000000                        4.000000   \n",
       "max               5.000000                      176.000000   \n",
       "\n",
       "       calculated_host_listings_count_entire_homes  \\\n",
       "count                                 14013.000000   \n",
       "mean                                      5.718547   \n",
       "std                                      16.959760   \n",
       "min                                       0.000000   \n",
       "25%                                       1.000000   \n",
       "50%                                       1.000000   \n",
       "75%                                       2.000000   \n",
       "max                                     172.000000   \n",
       "\n",
       "       calculated_host_listings_count_private_rooms  \\\n",
       "count                                  14013.000000   \n",
       "mean                                       0.702919   \n",
       "std                                        1.559191   \n",
       "min                                        0.000000   \n",
       "25%                                        0.000000   \n",
       "50%                                        0.000000   \n",
       "75%                                        1.000000   \n",
       "max                                       13.000000   \n",
       "\n",
       "       calculated_host_listings_count_shared_rooms  reviews_per_month  \n",
       "count                                 14013.000000       14013.000000  \n",
       "mean                                      0.077357           0.692056  \n",
       "std                                       0.577565           0.926727  \n",
       "min                                       0.000000           0.010000  \n",
       "25%                                       0.000000           0.100000  \n",
       "50%                                       0.000000           0.330000  \n",
       "75%                                       0.000000           0.960000  \n",
       "max                                       9.000000          21.790000  \n",
       "\n",
       "[8 rows x 31 columns]"
      ]
     },
     "execution_count": 135,
     "metadata": {},
     "output_type": "execute_result"
    }
   ],
   "source": [
    "df.describe()"
   ]
  },
  {
   "cell_type": "code",
   "execution_count": 136,
   "metadata": {},
   "outputs": [],
   "source": [
    "df.to_csv(\"clean_data.csv\", index=False)"
   ]
  },
  {
   "cell_type": "code",
   "execution_count": 137,
   "metadata": {},
   "outputs": [
    {
     "data": {
      "text/plain": [
       "<wandb.sdk.wandb_artifacts.Artifact at 0x7f7ca3d0f400>"
      ]
     },
     "execution_count": 137,
     "metadata": {},
     "output_type": "execute_result"
    }
   ],
   "source": [
    "# !wandb artifact put \\\n",
    "#       --name airbnb_eda/clean_data.csv \\\n",
    "#       --type clean_data \\\n",
    "#       --description \"The clean data from airbnb\" clean_data.csv\n",
    "\n",
    "        \n",
    "artifact = wandb.Artifact(\n",
    "    name=\"clean_data.csv\",\n",
    "    type=\"clean_data\",\n",
    "    description=\"The clean data from airbnb\",\n",
    ")\n",
    "artifact.add_file(\"clean_data.csv\")\n",
    "\n",
    "run.log_artifact(artifact)"
   ]
  },
  {
   "cell_type": "code",
   "execution_count": 138,
   "metadata": {},
   "outputs": [
    {
     "data": {
      "text/html": [
       "<br/>Waiting for W&B process to finish, PID 20359... <strong style=\"color:green\">(success).</strong>"
      ],
      "text/plain": [
       "<IPython.core.display.HTML object>"
      ]
     },
     "metadata": {},
     "output_type": "display_data"
    },
    {
     "data": {
      "application/vnd.jupyter.widget-view+json": {
       "model_id": "",
       "version_major": 2,
       "version_minor": 0
      },
      "text/plain": [
       "VBox(children=(Label(value=' 8.27MB of 8.27MB uploaded (0.00MB deduped)\\r'), FloatProgress(value=1.0, max=1.0)…"
      ]
     },
     "metadata": {},
     "output_type": "display_data"
    },
    {
     "data": {
      "text/html": [
       "<style>\n",
       "    table.wandb td:nth-child(1) { padding: 0 10px; text-align: right }\n",
       "    .wandb-row { display: flex; flex-direction: row; flex-wrap: wrap; width: 100% }\n",
       "    .wandb-col { display: flex; flex-direction: column; flex-basis: 100%; flex: 1; padding: 10px; }\n",
       "    </style>\n",
       "<div class=\"wandb-row\"><div class=\"wandb-col\">\n",
       "</div><div class=\"wandb-col\">\n",
       "</div></div>\n",
       "Synced 6 W&B file(s), 0 media file(s), 1 artifact file(s) and 1 other file(s)\n",
       "<br/>Synced <strong style=\"color:#cdcd00\">cerulean-meadow-2</strong>: <a href=\"https://wandb.ai/mlops-kaio/airbnb_eda/runs/2td9ahsd\" target=\"_blank\">https://wandb.ai/mlops-kaio/airbnb_eda/runs/2td9ahsd</a><br/>\n",
       "Find logs at: <code>./wandb/run-20220701_163312-2td9ahsd/logs</code><br/>\n"
      ],
      "text/plain": [
       "<IPython.core.display.HTML object>"
      ]
     },
     "metadata": {},
     "output_type": "display_data"
    }
   ],
   "source": [
    "run.finish()"
   ]
  },
  {
   "cell_type": "markdown",
   "metadata": {
    "id": "N3yBP7hxM0q1"
   },
   "source": [
    "### 1.3.4 EDA Manually"
   ]
  },
  {
   "cell_type": "code",
   "execution_count": 139,
   "metadata": {},
   "outputs": [
    {
     "name": "stderr",
     "output_type": "stream",
     "text": [
      "\u001b[34m\u001b[1mwandb\u001b[0m: wandb version 0.12.20 is available!  To upgrade, please run:\n",
      "\u001b[34m\u001b[1mwandb\u001b[0m:  $ pip install wandb --upgrade\n"
     ]
    },
    {
     "data": {
      "text/html": [
       "\n",
       "                    Syncing run <strong><a href=\"https://wandb.ai/mlops-kaio/airbnb_eda/runs/152fiakn\" target=\"_blank\">peach-gorge-3</a></strong> to <a href=\"https://wandb.ai/mlops-kaio/airbnb_eda\" target=\"_blank\">Weights & Biases</a> (<a href=\"https://docs.wandb.com/integrations/jupyter.html\" target=\"_blank\">docs</a>).<br/>\n",
       "\n",
       "                "
      ],
      "text/plain": [
       "<IPython.core.display.HTML object>"
      ]
     },
     "metadata": {},
     "output_type": "display_data"
    }
   ],
   "source": [
    "# save_code tracking all changes of the notebook and sync with Wandb\n",
    "run = wandb.init(project=\"airbnb_eda\", job_type=\"eda_and_data_segration\", save_code=True)"
   ]
  },
  {
   "cell_type": "code",
   "execution_count": 140,
   "metadata": {},
   "outputs": [],
   "source": [
    "artifact = run.use_artifact(\"airbnb_eda/clean_data.csv:latest\")\n",
    "\n",
    "# create a dataframe from the artifact\n",
    "df_clean = pd.read_csv(artifact.file())"
   ]
  },
  {
   "cell_type": "code",
   "execution_count": 141,
   "metadata": {},
   "outputs": [
    {
     "data": {
      "text/plain": [
       "neighbourhood_cleansed                            131\n",
       "property_type                                      59\n",
       "room_type                                           4\n",
       "accommodates                                       16\n",
       "bathrooms_text                                     45\n",
       "bedrooms                                           16\n",
       "beds                                               33\n",
       "amenities                                       13545\n",
       "price                                            1884\n",
       "minimum_nights                                     47\n",
       "maximum_nights                                    167\n",
       "minimum_minimum_nights                             47\n",
       "maximum_minimum_nights                             53\n",
       "minimum_maximum_nights                            144\n",
       "maximum_maximum_nights                            143\n",
       "minimum_nights_avg_ntm                            173\n",
       "maximum_nights_avg_ntm                            506\n",
       "has_availability                                    2\n",
       "availability_30                                    31\n",
       "availability_60                                    61\n",
       "availability_90                                    91\n",
       "availability_365                                  366\n",
       "number_of_reviews                                 293\n",
       "number_of_reviews_ltm                              85\n",
       "number_of_reviews_l30d                             13\n",
       "review_scores_rating                              132\n",
       "review_scores_accuracy                            121\n",
       "review_scores_cleanliness                         159\n",
       "review_scores_checkin                             108\n",
       "review_scores_communication                       111\n",
       "review_scores_location                            116\n",
       "review_scores_value                               133\n",
       "instant_bookable                                    2\n",
       "calculated_host_listings_count                     46\n",
       "calculated_host_listings_count_entire_homes        47\n",
       "calculated_host_listings_count_private_rooms       14\n",
       "calculated_host_listings_count_shared_rooms        10\n",
       "reviews_per_month                                 509\n",
       "dtype: int64"
      ]
     },
     "execution_count": 141,
     "metadata": {},
     "output_type": "execute_result"
    }
   ],
   "source": [
    "df_clean.nunique()"
   ]
  },
  {
   "cell_type": "code",
   "execution_count": 142,
   "metadata": {},
   "outputs": [
    {
     "data": {
      "text/html": [
       "<div>\n",
       "<style scoped>\n",
       "    .dataframe tbody tr th:only-of-type {\n",
       "        vertical-align: middle;\n",
       "    }\n",
       "\n",
       "    .dataframe tbody tr th {\n",
       "        vertical-align: top;\n",
       "    }\n",
       "\n",
       "    .dataframe thead th {\n",
       "        text-align: right;\n",
       "    }\n",
       "</style>\n",
       "<table border=\"1\" class=\"dataframe\">\n",
       "  <thead>\n",
       "    <tr style=\"text-align: right;\">\n",
       "      <th>room_type</th>\n",
       "      <th>Entire home/apt</th>\n",
       "      <th>Hotel room</th>\n",
       "      <th>Private room</th>\n",
       "      <th>Shared room</th>\n",
       "      <th>All</th>\n",
       "    </tr>\n",
       "    <tr>\n",
       "      <th>price</th>\n",
       "      <th></th>\n",
       "      <th></th>\n",
       "      <th></th>\n",
       "      <th></th>\n",
       "      <th></th>\n",
       "    </tr>\n",
       "  </thead>\n",
       "  <tbody>\n",
       "    <tr>\n",
       "      <th>33.0</th>\n",
       "      <td>0</td>\n",
       "      <td>0</td>\n",
       "      <td>1</td>\n",
       "      <td>0</td>\n",
       "      <td>1</td>\n",
       "    </tr>\n",
       "    <tr>\n",
       "      <th>40.0</th>\n",
       "      <td>0</td>\n",
       "      <td>0</td>\n",
       "      <td>1</td>\n",
       "      <td>0</td>\n",
       "      <td>1</td>\n",
       "    </tr>\n",
       "    <tr>\n",
       "      <th>45.0</th>\n",
       "      <td>0</td>\n",
       "      <td>0</td>\n",
       "      <td>0</td>\n",
       "      <td>3</td>\n",
       "      <td>3</td>\n",
       "    </tr>\n",
       "    <tr>\n",
       "      <th>46.0</th>\n",
       "      <td>0</td>\n",
       "      <td>0</td>\n",
       "      <td>1</td>\n",
       "      <td>0</td>\n",
       "      <td>1</td>\n",
       "    </tr>\n",
       "    <tr>\n",
       "      <th>50.0</th>\n",
       "      <td>0</td>\n",
       "      <td>0</td>\n",
       "      <td>1</td>\n",
       "      <td>1</td>\n",
       "      <td>2</td>\n",
       "    </tr>\n",
       "    <tr>\n",
       "      <th>...</th>\n",
       "      <td>...</td>\n",
       "      <td>...</td>\n",
       "      <td>...</td>\n",
       "      <td>...</td>\n",
       "      <td>...</td>\n",
       "    </tr>\n",
       "    <tr>\n",
       "      <th>92620.0</th>\n",
       "      <td>1</td>\n",
       "      <td>0</td>\n",
       "      <td>0</td>\n",
       "      <td>0</td>\n",
       "      <td>1</td>\n",
       "    </tr>\n",
       "    <tr>\n",
       "      <th>96438.0</th>\n",
       "      <td>1</td>\n",
       "      <td>0</td>\n",
       "      <td>0</td>\n",
       "      <td>0</td>\n",
       "      <td>1</td>\n",
       "    </tr>\n",
       "    <tr>\n",
       "      <th>110688.0</th>\n",
       "      <td>1</td>\n",
       "      <td>0</td>\n",
       "      <td>0</td>\n",
       "      <td>0</td>\n",
       "      <td>1</td>\n",
       "    </tr>\n",
       "    <tr>\n",
       "      <th>129080.0</th>\n",
       "      <td>3</td>\n",
       "      <td>0</td>\n",
       "      <td>0</td>\n",
       "      <td>0</td>\n",
       "      <td>3</td>\n",
       "    </tr>\n",
       "    <tr>\n",
       "      <th>All</th>\n",
       "      <td>10705</td>\n",
       "      <td>48</td>\n",
       "      <td>3029</td>\n",
       "      <td>231</td>\n",
       "      <td>14013</td>\n",
       "    </tr>\n",
       "  </tbody>\n",
       "</table>\n",
       "<p>1885 rows × 5 columns</p>\n",
       "</div>"
      ],
      "text/plain": [
       "room_type  Entire home/apt  Hotel room  Private room  Shared room    All\n",
       "price                                                                   \n",
       "33.0                     0           0             1            0      1\n",
       "40.0                     0           0             1            0      1\n",
       "45.0                     0           0             0            3      3\n",
       "46.0                     0           0             1            0      1\n",
       "50.0                     0           0             1            1      2\n",
       "...                    ...         ...           ...          ...    ...\n",
       "92620.0                  1           0             0            0      1\n",
       "96438.0                  1           0             0            0      1\n",
       "110688.0                 1           0             0            0      1\n",
       "129080.0                 3           0             0            0      3\n",
       "All                  10705          48          3029          231  14013\n",
       "\n",
       "[1885 rows x 5 columns]"
      ]
     },
     "execution_count": 142,
     "metadata": {},
     "output_type": "execute_result"
    }
   ],
   "source": [
    "# what the room_type column can help us?\n",
    "pd.crosstab(df_clean.price,df_clean.room_type,margins=True)"
   ]
  },
  {
   "cell_type": "code",
   "execution_count": 143,
   "metadata": {
    "colab": {
     "base_uri": "https://localhost:8080/",
     "height": 175
    },
    "id": "yCPerUdKl-yz",
    "outputId": "5328658c-faf5-4755-b022-ea8d1f19221b"
   },
   "outputs": [
    {
     "data": {
      "text/html": [
       "<div>\n",
       "<style scoped>\n",
       "    .dataframe tbody tr th:only-of-type {\n",
       "        vertical-align: middle;\n",
       "    }\n",
       "\n",
       "    .dataframe tbody tr th {\n",
       "        vertical-align: top;\n",
       "    }\n",
       "\n",
       "    .dataframe thead th {\n",
       "        text-align: right;\n",
       "    }\n",
       "</style>\n",
       "<table border=\"1\" class=\"dataframe\">\n",
       "  <thead>\n",
       "    <tr style=\"text-align: right;\">\n",
       "      <th>room_type</th>\n",
       "      <th>Entire home/apt</th>\n",
       "      <th>Hotel room</th>\n",
       "      <th>Private room</th>\n",
       "      <th>Shared room</th>\n",
       "      <th>All</th>\n",
       "    </tr>\n",
       "    <tr>\n",
       "      <th>price</th>\n",
       "      <th></th>\n",
       "      <th></th>\n",
       "      <th></th>\n",
       "      <th></th>\n",
       "      <th></th>\n",
       "    </tr>\n",
       "  </thead>\n",
       "  <tbody>\n",
       "    <tr>\n",
       "      <th>33.0</th>\n",
       "      <td>0.000000</td>\n",
       "      <td>0.000000</td>\n",
       "      <td>0.000071</td>\n",
       "      <td>0.000000</td>\n",
       "      <td>0.000071</td>\n",
       "    </tr>\n",
       "    <tr>\n",
       "      <th>40.0</th>\n",
       "      <td>0.000000</td>\n",
       "      <td>0.000000</td>\n",
       "      <td>0.000071</td>\n",
       "      <td>0.000000</td>\n",
       "      <td>0.000071</td>\n",
       "    </tr>\n",
       "    <tr>\n",
       "      <th>45.0</th>\n",
       "      <td>0.000000</td>\n",
       "      <td>0.000000</td>\n",
       "      <td>0.000000</td>\n",
       "      <td>0.000214</td>\n",
       "      <td>0.000214</td>\n",
       "    </tr>\n",
       "    <tr>\n",
       "      <th>46.0</th>\n",
       "      <td>0.000000</td>\n",
       "      <td>0.000000</td>\n",
       "      <td>0.000071</td>\n",
       "      <td>0.000000</td>\n",
       "      <td>0.000071</td>\n",
       "    </tr>\n",
       "    <tr>\n",
       "      <th>50.0</th>\n",
       "      <td>0.000000</td>\n",
       "      <td>0.000000</td>\n",
       "      <td>0.000071</td>\n",
       "      <td>0.000071</td>\n",
       "      <td>0.000143</td>\n",
       "    </tr>\n",
       "    <tr>\n",
       "      <th>...</th>\n",
       "      <td>...</td>\n",
       "      <td>...</td>\n",
       "      <td>...</td>\n",
       "      <td>...</td>\n",
       "      <td>...</td>\n",
       "    </tr>\n",
       "    <tr>\n",
       "      <th>92620.0</th>\n",
       "      <td>0.000071</td>\n",
       "      <td>0.000000</td>\n",
       "      <td>0.000000</td>\n",
       "      <td>0.000000</td>\n",
       "      <td>0.000071</td>\n",
       "    </tr>\n",
       "    <tr>\n",
       "      <th>96438.0</th>\n",
       "      <td>0.000071</td>\n",
       "      <td>0.000000</td>\n",
       "      <td>0.000000</td>\n",
       "      <td>0.000000</td>\n",
       "      <td>0.000071</td>\n",
       "    </tr>\n",
       "    <tr>\n",
       "      <th>110688.0</th>\n",
       "      <td>0.000071</td>\n",
       "      <td>0.000000</td>\n",
       "      <td>0.000000</td>\n",
       "      <td>0.000000</td>\n",
       "      <td>0.000071</td>\n",
       "    </tr>\n",
       "    <tr>\n",
       "      <th>129080.0</th>\n",
       "      <td>0.000214</td>\n",
       "      <td>0.000000</td>\n",
       "      <td>0.000000</td>\n",
       "      <td>0.000000</td>\n",
       "      <td>0.000214</td>\n",
       "    </tr>\n",
       "    <tr>\n",
       "      <th>All</th>\n",
       "      <td>0.763933</td>\n",
       "      <td>0.003425</td>\n",
       "      <td>0.216156</td>\n",
       "      <td>0.016485</td>\n",
       "      <td>1.000000</td>\n",
       "    </tr>\n",
       "  </tbody>\n",
       "</table>\n",
       "<p>1885 rows × 5 columns</p>\n",
       "</div>"
      ],
      "text/plain": [
       "room_type  Entire home/apt  Hotel room  Private room  Shared room       All\n",
       "price                                                                      \n",
       "33.0              0.000000    0.000000      0.000071     0.000000  0.000071\n",
       "40.0              0.000000    0.000000      0.000071     0.000000  0.000071\n",
       "45.0              0.000000    0.000000      0.000000     0.000214  0.000214\n",
       "46.0              0.000000    0.000000      0.000071     0.000000  0.000071\n",
       "50.0              0.000000    0.000000      0.000071     0.000071  0.000143\n",
       "...                    ...         ...           ...          ...       ...\n",
       "92620.0           0.000071    0.000000      0.000000     0.000000  0.000071\n",
       "96438.0           0.000071    0.000000      0.000000     0.000000  0.000071\n",
       "110688.0          0.000071    0.000000      0.000000     0.000000  0.000071\n",
       "129080.0          0.000214    0.000000      0.000000     0.000000  0.000214\n",
       "All               0.763933    0.003425      0.216156     0.016485  1.000000\n",
       "\n",
       "[1885 rows x 5 columns]"
      ]
     },
     "execution_count": 143,
     "metadata": {},
     "output_type": "execute_result"
    }
   ],
   "source": [
    "# what the sex column can help us?\n",
    "pd.crosstab(df_clean.price,df_clean.room_type,margins=True,normalize=True)"
   ]
  },
  {
   "cell_type": "code",
   "execution_count": 144,
   "metadata": {
    "colab": {
     "base_uri": "https://localhost:8080/",
     "height": 254
    },
    "id": "Qrk81pTpUPi-",
    "outputId": "2e8bb994-ca52-4e5a-cc3f-6cccab3f5d01"
   },
   "outputs": [
    {
     "data": {
      "text/html": [
       "<div>\n",
       "<style scoped>\n",
       "    .dataframe tbody tr th:only-of-type {\n",
       "        vertical-align: middle;\n",
       "    }\n",
       "\n",
       "    .dataframe tbody tr th {\n",
       "        vertical-align: top;\n",
       "    }\n",
       "\n",
       "    .dataframe thead th {\n",
       "        text-align: right;\n",
       "    }\n",
       "</style>\n",
       "<table border=\"1\" class=\"dataframe\">\n",
       "  <thead>\n",
       "    <tr style=\"text-align: right;\">\n",
       "      <th>bedrooms</th>\n",
       "      <th>1.0</th>\n",
       "      <th>2.0</th>\n",
       "      <th>3.0</th>\n",
       "      <th>4.0</th>\n",
       "      <th>5.0</th>\n",
       "      <th>6.0</th>\n",
       "      <th>7.0</th>\n",
       "      <th>8.0</th>\n",
       "      <th>9.0</th>\n",
       "      <th>10.0</th>\n",
       "      <th>11.0</th>\n",
       "      <th>12.0</th>\n",
       "      <th>13.0</th>\n",
       "      <th>15.0</th>\n",
       "      <th>17.0</th>\n",
       "      <th>20.0</th>\n",
       "      <th>All</th>\n",
       "    </tr>\n",
       "    <tr>\n",
       "      <th>price</th>\n",
       "      <th></th>\n",
       "      <th></th>\n",
       "      <th></th>\n",
       "      <th></th>\n",
       "      <th></th>\n",
       "      <th></th>\n",
       "      <th></th>\n",
       "      <th></th>\n",
       "      <th></th>\n",
       "      <th></th>\n",
       "      <th></th>\n",
       "      <th></th>\n",
       "      <th></th>\n",
       "      <th></th>\n",
       "      <th></th>\n",
       "      <th></th>\n",
       "      <th></th>\n",
       "    </tr>\n",
       "  </thead>\n",
       "  <tbody>\n",
       "    <tr>\n",
       "      <th>33.0</th>\n",
       "      <td>0.000071</td>\n",
       "      <td>0.000000</td>\n",
       "      <td>0.000000</td>\n",
       "      <td>0.000000</td>\n",
       "      <td>0.000000</td>\n",
       "      <td>0.000000</td>\n",
       "      <td>0.00000</td>\n",
       "      <td>0.000000</td>\n",
       "      <td>0.000000</td>\n",
       "      <td>0.000000</td>\n",
       "      <td>0.000000</td>\n",
       "      <td>0.000000</td>\n",
       "      <td>0.000000</td>\n",
       "      <td>0.000000</td>\n",
       "      <td>0.000000</td>\n",
       "      <td>0.000000</td>\n",
       "      <td>0.000071</td>\n",
       "    </tr>\n",
       "    <tr>\n",
       "      <th>40.0</th>\n",
       "      <td>0.000071</td>\n",
       "      <td>0.000000</td>\n",
       "      <td>0.000000</td>\n",
       "      <td>0.000000</td>\n",
       "      <td>0.000000</td>\n",
       "      <td>0.000000</td>\n",
       "      <td>0.00000</td>\n",
       "      <td>0.000000</td>\n",
       "      <td>0.000000</td>\n",
       "      <td>0.000000</td>\n",
       "      <td>0.000000</td>\n",
       "      <td>0.000000</td>\n",
       "      <td>0.000000</td>\n",
       "      <td>0.000000</td>\n",
       "      <td>0.000000</td>\n",
       "      <td>0.000000</td>\n",
       "      <td>0.000071</td>\n",
       "    </tr>\n",
       "    <tr>\n",
       "      <th>45.0</th>\n",
       "      <td>0.000214</td>\n",
       "      <td>0.000000</td>\n",
       "      <td>0.000000</td>\n",
       "      <td>0.000000</td>\n",
       "      <td>0.000000</td>\n",
       "      <td>0.000000</td>\n",
       "      <td>0.00000</td>\n",
       "      <td>0.000000</td>\n",
       "      <td>0.000000</td>\n",
       "      <td>0.000000</td>\n",
       "      <td>0.000000</td>\n",
       "      <td>0.000000</td>\n",
       "      <td>0.000000</td>\n",
       "      <td>0.000000</td>\n",
       "      <td>0.000000</td>\n",
       "      <td>0.000000</td>\n",
       "      <td>0.000214</td>\n",
       "    </tr>\n",
       "    <tr>\n",
       "      <th>46.0</th>\n",
       "      <td>0.000071</td>\n",
       "      <td>0.000000</td>\n",
       "      <td>0.000000</td>\n",
       "      <td>0.000000</td>\n",
       "      <td>0.000000</td>\n",
       "      <td>0.000000</td>\n",
       "      <td>0.00000</td>\n",
       "      <td>0.000000</td>\n",
       "      <td>0.000000</td>\n",
       "      <td>0.000000</td>\n",
       "      <td>0.000000</td>\n",
       "      <td>0.000000</td>\n",
       "      <td>0.000000</td>\n",
       "      <td>0.000000</td>\n",
       "      <td>0.000000</td>\n",
       "      <td>0.000000</td>\n",
       "      <td>0.000071</td>\n",
       "    </tr>\n",
       "    <tr>\n",
       "      <th>50.0</th>\n",
       "      <td>0.000143</td>\n",
       "      <td>0.000000</td>\n",
       "      <td>0.000000</td>\n",
       "      <td>0.000000</td>\n",
       "      <td>0.000000</td>\n",
       "      <td>0.000000</td>\n",
       "      <td>0.00000</td>\n",
       "      <td>0.000000</td>\n",
       "      <td>0.000000</td>\n",
       "      <td>0.000000</td>\n",
       "      <td>0.000000</td>\n",
       "      <td>0.000000</td>\n",
       "      <td>0.000000</td>\n",
       "      <td>0.000000</td>\n",
       "      <td>0.000000</td>\n",
       "      <td>0.000000</td>\n",
       "      <td>0.000143</td>\n",
       "    </tr>\n",
       "    <tr>\n",
       "      <th>...</th>\n",
       "      <td>...</td>\n",
       "      <td>...</td>\n",
       "      <td>...</td>\n",
       "      <td>...</td>\n",
       "      <td>...</td>\n",
       "      <td>...</td>\n",
       "      <td>...</td>\n",
       "      <td>...</td>\n",
       "      <td>...</td>\n",
       "      <td>...</td>\n",
       "      <td>...</td>\n",
       "      <td>...</td>\n",
       "      <td>...</td>\n",
       "      <td>...</td>\n",
       "      <td>...</td>\n",
       "      <td>...</td>\n",
       "      <td>...</td>\n",
       "    </tr>\n",
       "    <tr>\n",
       "      <th>92620.0</th>\n",
       "      <td>0.000000</td>\n",
       "      <td>0.000000</td>\n",
       "      <td>0.000000</td>\n",
       "      <td>0.000000</td>\n",
       "      <td>0.000071</td>\n",
       "      <td>0.000000</td>\n",
       "      <td>0.00000</td>\n",
       "      <td>0.000000</td>\n",
       "      <td>0.000000</td>\n",
       "      <td>0.000000</td>\n",
       "      <td>0.000000</td>\n",
       "      <td>0.000000</td>\n",
       "      <td>0.000000</td>\n",
       "      <td>0.000000</td>\n",
       "      <td>0.000000</td>\n",
       "      <td>0.000000</td>\n",
       "      <td>0.000071</td>\n",
       "    </tr>\n",
       "    <tr>\n",
       "      <th>96438.0</th>\n",
       "      <td>0.000000</td>\n",
       "      <td>0.000071</td>\n",
       "      <td>0.000000</td>\n",
       "      <td>0.000000</td>\n",
       "      <td>0.000000</td>\n",
       "      <td>0.000000</td>\n",
       "      <td>0.00000</td>\n",
       "      <td>0.000000</td>\n",
       "      <td>0.000000</td>\n",
       "      <td>0.000000</td>\n",
       "      <td>0.000000</td>\n",
       "      <td>0.000000</td>\n",
       "      <td>0.000000</td>\n",
       "      <td>0.000000</td>\n",
       "      <td>0.000000</td>\n",
       "      <td>0.000000</td>\n",
       "      <td>0.000071</td>\n",
       "    </tr>\n",
       "    <tr>\n",
       "      <th>110688.0</th>\n",
       "      <td>0.000071</td>\n",
       "      <td>0.000000</td>\n",
       "      <td>0.000000</td>\n",
       "      <td>0.000000</td>\n",
       "      <td>0.000000</td>\n",
       "      <td>0.000000</td>\n",
       "      <td>0.00000</td>\n",
       "      <td>0.000000</td>\n",
       "      <td>0.000000</td>\n",
       "      <td>0.000000</td>\n",
       "      <td>0.000000</td>\n",
       "      <td>0.000000</td>\n",
       "      <td>0.000000</td>\n",
       "      <td>0.000000</td>\n",
       "      <td>0.000000</td>\n",
       "      <td>0.000000</td>\n",
       "      <td>0.000071</td>\n",
       "    </tr>\n",
       "    <tr>\n",
       "      <th>129080.0</th>\n",
       "      <td>0.000143</td>\n",
       "      <td>0.000000</td>\n",
       "      <td>0.000071</td>\n",
       "      <td>0.000000</td>\n",
       "      <td>0.000000</td>\n",
       "      <td>0.000000</td>\n",
       "      <td>0.00000</td>\n",
       "      <td>0.000000</td>\n",
       "      <td>0.000000</td>\n",
       "      <td>0.000000</td>\n",
       "      <td>0.000000</td>\n",
       "      <td>0.000000</td>\n",
       "      <td>0.000000</td>\n",
       "      <td>0.000000</td>\n",
       "      <td>0.000000</td>\n",
       "      <td>0.000000</td>\n",
       "      <td>0.000214</td>\n",
       "    </tr>\n",
       "    <tr>\n",
       "      <th>All</th>\n",
       "      <td>0.590809</td>\n",
       "      <td>0.257047</td>\n",
       "      <td>0.114037</td>\n",
       "      <td>0.024549</td>\n",
       "      <td>0.007065</td>\n",
       "      <td>0.003639</td>\n",
       "      <td>0.00107</td>\n",
       "      <td>0.000357</td>\n",
       "      <td>0.000428</td>\n",
       "      <td>0.000357</td>\n",
       "      <td>0.000071</td>\n",
       "      <td>0.000143</td>\n",
       "      <td>0.000071</td>\n",
       "      <td>0.000143</td>\n",
       "      <td>0.000071</td>\n",
       "      <td>0.000143</td>\n",
       "      <td>1.000000</td>\n",
       "    </tr>\n",
       "  </tbody>\n",
       "</table>\n",
       "<p>1885 rows × 17 columns</p>\n",
       "</div>"
      ],
      "text/plain": [
       "bedrooms       1.0       2.0       3.0       4.0       5.0       6.0      7.0  \\\n",
       "price                                                                           \n",
       "33.0      0.000071  0.000000  0.000000  0.000000  0.000000  0.000000  0.00000   \n",
       "40.0      0.000071  0.000000  0.000000  0.000000  0.000000  0.000000  0.00000   \n",
       "45.0      0.000214  0.000000  0.000000  0.000000  0.000000  0.000000  0.00000   \n",
       "46.0      0.000071  0.000000  0.000000  0.000000  0.000000  0.000000  0.00000   \n",
       "50.0      0.000143  0.000000  0.000000  0.000000  0.000000  0.000000  0.00000   \n",
       "...            ...       ...       ...       ...       ...       ...      ...   \n",
       "92620.0   0.000000  0.000000  0.000000  0.000000  0.000071  0.000000  0.00000   \n",
       "96438.0   0.000000  0.000071  0.000000  0.000000  0.000000  0.000000  0.00000   \n",
       "110688.0  0.000071  0.000000  0.000000  0.000000  0.000000  0.000000  0.00000   \n",
       "129080.0  0.000143  0.000000  0.000071  0.000000  0.000000  0.000000  0.00000   \n",
       "All       0.590809  0.257047  0.114037  0.024549  0.007065  0.003639  0.00107   \n",
       "\n",
       "bedrooms       8.0       9.0      10.0      11.0      12.0      13.0  \\\n",
       "price                                                                  \n",
       "33.0      0.000000  0.000000  0.000000  0.000000  0.000000  0.000000   \n",
       "40.0      0.000000  0.000000  0.000000  0.000000  0.000000  0.000000   \n",
       "45.0      0.000000  0.000000  0.000000  0.000000  0.000000  0.000000   \n",
       "46.0      0.000000  0.000000  0.000000  0.000000  0.000000  0.000000   \n",
       "50.0      0.000000  0.000000  0.000000  0.000000  0.000000  0.000000   \n",
       "...            ...       ...       ...       ...       ...       ...   \n",
       "92620.0   0.000000  0.000000  0.000000  0.000000  0.000000  0.000000   \n",
       "96438.0   0.000000  0.000000  0.000000  0.000000  0.000000  0.000000   \n",
       "110688.0  0.000000  0.000000  0.000000  0.000000  0.000000  0.000000   \n",
       "129080.0  0.000000  0.000000  0.000000  0.000000  0.000000  0.000000   \n",
       "All       0.000357  0.000428  0.000357  0.000071  0.000143  0.000071   \n",
       "\n",
       "bedrooms      15.0      17.0      20.0       All  \n",
       "price                                             \n",
       "33.0      0.000000  0.000000  0.000000  0.000071  \n",
       "40.0      0.000000  0.000000  0.000000  0.000071  \n",
       "45.0      0.000000  0.000000  0.000000  0.000214  \n",
       "46.0      0.000000  0.000000  0.000000  0.000071  \n",
       "50.0      0.000000  0.000000  0.000000  0.000143  \n",
       "...            ...       ...       ...       ...  \n",
       "92620.0   0.000000  0.000000  0.000000  0.000071  \n",
       "96438.0   0.000000  0.000000  0.000000  0.000071  \n",
       "110688.0  0.000000  0.000000  0.000000  0.000071  \n",
       "129080.0  0.000000  0.000000  0.000000  0.000214  \n",
       "All       0.000143  0.000071  0.000143  1.000000  \n",
       "\n",
       "[1885 rows x 17 columns]"
      ]
     },
     "execution_count": 144,
     "metadata": {},
     "output_type": "execute_result"
    }
   ],
   "source": [
    "# price vs [sex & race]?\n",
    "#pd.crosstab(df.price,[df.sex,df.race],margins=True)\n",
    "pd.crosstab(df_clean.price,df_clean.bedrooms,margins=True,normalize=True)"
   ]
  },
  {
   "cell_type": "code",
   "execution_count": 145,
   "metadata": {
    "colab": {
     "base_uri": "https://localhost:8080/",
     "height": 297
    },
    "id": "WTcnUzDtW7pX",
    "outputId": "8cc1206c-04da-4e2e-8f3c-3fed91f569b1"
   },
   "outputs": [],
   "source": [
    "# %matplotlib inline\n",
    "\n",
    "# sns.catplot(x=\"room_type\", \n",
    "#             hue=\"bedrooms\", \n",
    "#             col=\"price\",\n",
    "#             data=df_clean, kind=\"count\",\n",
    "#             height=4, aspect=.7)\n",
    "# plt.show()"
   ]
  },
  {
   "cell_type": "code",
   "execution_count": 146,
   "metadata": {
    "colab": {
     "base_uri": "https://localhost:8080/",
     "height": 297
    },
    "id": "iiNAy2H2mOZT",
    "outputId": "6e76e4e1-fbb1-4d21-c298-6e13ab88b841"
   },
   "outputs": [],
   "source": [
    "# g = sns.catplot(x=\"room_type\", \n",
    "#                 hue=\"bedrooms\", \n",
    "#                 col=\"price\",\n",
    "#                 data=df_clean, kind=\"count\",\n",
    "#                 height=4, aspect=.7)\n",
    "\n",
    "# g.savefig(\"Price_RoomType_Bedrooms.png\", dpi=100)\n",
    "\n",
    "# run.log(\n",
    "#         {\n",
    "#             \"Price vs RoomType vs Bedrooms\": wandb.Image(\"Price_RoomType_Bedrooms.png\")\n",
    "#         }\n",
    "#     )"
   ]
  },
  {
   "cell_type": "markdown",
   "metadata": {
    "id": "GHkl3q4nc-WR"
   },
   "source": [
    "## 1.4 Train & Split"
   ]
  },
  {
   "cell_type": "code",
   "execution_count": 147,
   "metadata": {
    "id": "TOPCj8qogWtv"
   },
   "outputs": [],
   "source": [
    "splits = {}\n",
    "splits[\"train\"], splits[\"test\"] = train_test_split(df_clean,\n",
    "                                                   test_size=0.30,\n",
    "                                                   random_state=41)"
   ]
  },
  {
   "cell_type": "code",
   "execution_count": 148,
   "metadata": {
    "id": "A7DFSqeqg62i"
   },
   "outputs": [],
   "source": [
    "# Save the artifacts. We use a temporary directory so we do not leave\n",
    "# any trace behind\n",
    "\n",
    "with tempfile.TemporaryDirectory() as tmp_dir:\n",
    "\n",
    "    for split, df in splits.items():\n",
    "\n",
    "        # Make the artifact name from the provided root plus the name of the split\n",
    "        artifact_name = f\"data_{split}.csv\"\n",
    "\n",
    "        # Get the path on disk within the temp directory\n",
    "        temp_path = os.path.join(tmp_dir, artifact_name)\n",
    "\n",
    "        # Save then upload to W&B\n",
    "        df.to_csv(temp_path,index=False)\n",
    "\n",
    "        artifact = wandb.Artifact(\n",
    "            name=artifact_name,\n",
    "            type=\"clean_data\",\n",
    "            description=f\"{split} split of dataset airbnb_eda/clean_data.csv:latest\",\n",
    "        )\n",
    "        artifact.add_file(temp_path)\n",
    "\n",
    "        run.log_artifact(artifact)\n",
    "\n",
    "        # This waits for the artifact to be uploaded to W&B. If you\n",
    "        # do not add this, the temp directory might be removed before\n",
    "        # W&B had a chance to upload the datasets, and the upload\n",
    "        # might fail\n",
    "        artifact.wait()"
   ]
  },
  {
   "cell_type": "markdown",
   "metadata": {
    "id": "Hs9U_R2e1jhE"
   },
   "source": [
    "### 1.4.1 Donwload the train and test artifacts"
   ]
  },
  {
   "cell_type": "code",
   "execution_count": 149,
   "metadata": {
    "id": "OyXZ2gi3jMat"
   },
   "outputs": [],
   "source": [
    "# donwload the latest version of artifacts data_test.csv and data_train.csv\n",
    "artifact_train = run.use_artifact(\"airbnb_eda/data_train.csv:latest\")\n",
    "artifact_test = run.use_artifact(\"airbnb_eda/data_test.csv:latest\")\n",
    "\n",
    "# create a dataframe from each artifact\n",
    "df_train = pd.read_csv(artifact_train.file())\n",
    "df_test  = pd.read_csv(artifact_test.file())"
   ]
  },
  {
   "cell_type": "code",
   "execution_count": 150,
   "metadata": {
    "colab": {
     "base_uri": "https://localhost:8080/"
    },
    "id": "8xV7pjbh2NkL",
    "outputId": "ea946a9f-9499-43ba-e47d-98b351d7378e"
   },
   "outputs": [
    {
     "name": "stdout",
     "output_type": "stream",
     "text": [
      "Train: (9809, 38)\n",
      "Test: (4204, 38)\n"
     ]
    }
   ],
   "source": [
    "print(\"Train: {}\".format(df_train.shape))\n",
    "print(\"Test: {}\".format(df_test.shape))"
   ]
  },
  {
   "cell_type": "code",
   "execution_count": 151,
   "metadata": {
    "colab": {
     "base_uri": "https://localhost:8080/",
     "height": 124,
     "referenced_widgets": [
      "47242977df7d488689b4ad4d4fbe1b28",
      "93fb2fd6a8114848a1365fbbe6f9d61e",
      "ef5f57c235044a2ba184cd48d6449661",
      "41d059a4311d47cb965911cb53f415a4",
      "4c64c9c08ef04501a6f331ffa8552e9d",
      "e34e65f451c343809bb4268283c3fb8f",
      "bf9dbd1134d74feabb1a40b2d41336fe",
      "fdb29471447d4230837b61a51168a76c"
     ]
    },
    "id": "fCyy4IweNZwC",
    "outputId": "bcf87849-2972-4bea-cc61-81ddfaef7b5b"
   },
   "outputs": [
    {
     "data": {
      "text/html": [
       "<br/>Waiting for W&B process to finish, PID 20424... <strong style=\"color:green\">(success).</strong>"
      ],
      "text/plain": [
       "<IPython.core.display.HTML object>"
      ]
     },
     "metadata": {},
     "output_type": "display_data"
    },
    {
     "data": {
      "application/vnd.jupyter.widget-view+json": {
       "model_id": "",
       "version_major": 2,
       "version_minor": 0
      },
      "text/plain": [
       "VBox(children=(Label(value=' 8.27MB of 8.27MB uploaded (0.00MB deduped)\\r'), FloatProgress(value=1.0, max=1.0)…"
      ]
     },
     "metadata": {},
     "output_type": "display_data"
    },
    {
     "data": {
      "text/html": [
       "<style>\n",
       "    table.wandb td:nth-child(1) { padding: 0 10px; text-align: right }\n",
       "    .wandb-row { display: flex; flex-direction: row; flex-wrap: wrap; width: 100% }\n",
       "    .wandb-col { display: flex; flex-direction: column; flex-basis: 100%; flex: 1; padding: 10px; }\n",
       "    </style>\n",
       "<div class=\"wandb-row\"><div class=\"wandb-col\">\n",
       "</div><div class=\"wandb-col\">\n",
       "</div></div>\n",
       "Synced 6 W&B file(s), 0 media file(s), 2 artifact file(s) and 1 other file(s)\n",
       "<br/>Synced <strong style=\"color:#cdcd00\">peach-gorge-3</strong>: <a href=\"https://wandb.ai/mlops-kaio/airbnb_eda/runs/152fiakn\" target=\"_blank\">https://wandb.ai/mlops-kaio/airbnb_eda/runs/152fiakn</a><br/>\n",
       "Find logs at: <code>./wandb/run-20220701_163353-152fiakn/logs</code><br/>\n"
      ],
      "text/plain": [
       "<IPython.core.display.HTML object>"
      ]
     },
     "metadata": {},
     "output_type": "display_data"
    }
   ],
   "source": [
    "run.finish()"
   ]
  }
 ],
 "metadata": {
  "colab": {
   "collapsed_sections": [],
   "name": "EDA_new.ipynb",
   "provenance": [],
   "toc_visible": true
  },
  "kernelspec": {
   "display_name": "Python 3",
   "language": "python",
   "name": "python3"
  },
  "language_info": {
   "codemirror_mode": {
    "name": "ipython",
    "version": 3
   },
   "file_extension": ".py",
   "mimetype": "text/x-python",
   "name": "python",
   "nbconvert_exporter": "python",
   "pygments_lexer": "ipython3",
   "version": "3.8.13"
  },
  "widgets": {
   "application/vnd.jupyter.widget-state+json": {
    "41d059a4311d47cb965911cb53f415a4": {
     "model_module": "@jupyter-widgets/controls",
     "model_module_version": "1.5.0",
     "model_name": "FloatProgressModel",
     "state": {
      "_dom_classes": [],
      "_model_module": "@jupyter-widgets/controls",
      "_model_module_version": "1.5.0",
      "_model_name": "FloatProgressModel",
      "_view_count": null,
      "_view_module": "@jupyter-widgets/controls",
      "_view_module_version": "1.5.0",
      "_view_name": "ProgressView",
      "bar_style": "",
      "description": "",
      "description_tooltip": null,
      "layout": "IPY_MODEL_fdb29471447d4230837b61a51168a76c",
      "max": 1,
      "min": 0,
      "orientation": "horizontal",
      "style": "IPY_MODEL_bf9dbd1134d74feabb1a40b2d41336fe",
      "value": 1
     }
    },
    "47242977df7d488689b4ad4d4fbe1b28": {
     "model_module": "@jupyter-widgets/controls",
     "model_module_version": "1.5.0",
     "model_name": "VBoxModel",
     "state": {
      "_dom_classes": [],
      "_model_module": "@jupyter-widgets/controls",
      "_model_module_version": "1.5.0",
      "_model_name": "VBoxModel",
      "_view_count": null,
      "_view_module": "@jupyter-widgets/controls",
      "_view_module_version": "1.5.0",
      "_view_name": "VBoxView",
      "box_style": "",
      "children": [
       "IPY_MODEL_ef5f57c235044a2ba184cd48d6449661",
       "IPY_MODEL_41d059a4311d47cb965911cb53f415a4"
      ],
      "layout": "IPY_MODEL_93fb2fd6a8114848a1365fbbe6f9d61e"
     }
    },
    "4c64c9c08ef04501a6f331ffa8552e9d": {
     "model_module": "@jupyter-widgets/controls",
     "model_module_version": "1.5.0",
     "model_name": "DescriptionStyleModel",
     "state": {
      "_model_module": "@jupyter-widgets/controls",
      "_model_module_version": "1.5.0",
      "_model_name": "DescriptionStyleModel",
      "_view_count": null,
      "_view_module": "@jupyter-widgets/base",
      "_view_module_version": "1.2.0",
      "_view_name": "StyleView",
      "description_width": ""
     }
    },
    "93fb2fd6a8114848a1365fbbe6f9d61e": {
     "model_module": "@jupyter-widgets/base",
     "model_module_version": "1.2.0",
     "model_name": "LayoutModel",
     "state": {
      "_model_module": "@jupyter-widgets/base",
      "_model_module_version": "1.2.0",
      "_model_name": "LayoutModel",
      "_view_count": null,
      "_view_module": "@jupyter-widgets/base",
      "_view_module_version": "1.2.0",
      "_view_name": "LayoutView",
      "align_content": null,
      "align_items": null,
      "align_self": null,
      "border": null,
      "bottom": null,
      "display": null,
      "flex": null,
      "flex_flow": null,
      "grid_area": null,
      "grid_auto_columns": null,
      "grid_auto_flow": null,
      "grid_auto_rows": null,
      "grid_column": null,
      "grid_gap": null,
      "grid_row": null,
      "grid_template_areas": null,
      "grid_template_columns": null,
      "grid_template_rows": null,
      "height": null,
      "justify_content": null,
      "justify_items": null,
      "left": null,
      "margin": null,
      "max_height": null,
      "max_width": null,
      "min_height": null,
      "min_width": null,
      "object_fit": null,
      "object_position": null,
      "order": null,
      "overflow": null,
      "overflow_x": null,
      "overflow_y": null,
      "padding": null,
      "right": null,
      "top": null,
      "visibility": null,
      "width": null
     }
    },
    "bf9dbd1134d74feabb1a40b2d41336fe": {
     "model_module": "@jupyter-widgets/controls",
     "model_module_version": "1.5.0",
     "model_name": "ProgressStyleModel",
     "state": {
      "_model_module": "@jupyter-widgets/controls",
      "_model_module_version": "1.5.0",
      "_model_name": "ProgressStyleModel",
      "_view_count": null,
      "_view_module": "@jupyter-widgets/base",
      "_view_module_version": "1.2.0",
      "_view_name": "StyleView",
      "bar_color": null,
      "description_width": ""
     }
    },
    "e34e65f451c343809bb4268283c3fb8f": {
     "model_module": "@jupyter-widgets/base",
     "model_module_version": "1.2.0",
     "model_name": "LayoutModel",
     "state": {
      "_model_module": "@jupyter-widgets/base",
      "_model_module_version": "1.2.0",
      "_model_name": "LayoutModel",
      "_view_count": null,
      "_view_module": "@jupyter-widgets/base",
      "_view_module_version": "1.2.0",
      "_view_name": "LayoutView",
      "align_content": null,
      "align_items": null,
      "align_self": null,
      "border": null,
      "bottom": null,
      "display": null,
      "flex": null,
      "flex_flow": null,
      "grid_area": null,
      "grid_auto_columns": null,
      "grid_auto_flow": null,
      "grid_auto_rows": null,
      "grid_column": null,
      "grid_gap": null,
      "grid_row": null,
      "grid_template_areas": null,
      "grid_template_columns": null,
      "grid_template_rows": null,
      "height": null,
      "justify_content": null,
      "justify_items": null,
      "left": null,
      "margin": null,
      "max_height": null,
      "max_width": null,
      "min_height": null,
      "min_width": null,
      "object_fit": null,
      "object_position": null,
      "order": null,
      "overflow": null,
      "overflow_x": null,
      "overflow_y": null,
      "padding": null,
      "right": null,
      "top": null,
      "visibility": null,
      "width": null
     }
    },
    "ef5f57c235044a2ba184cd48d6449661": {
     "model_module": "@jupyter-widgets/controls",
     "model_module_version": "1.5.0",
     "model_name": "LabelModel",
     "state": {
      "_dom_classes": [],
      "_model_module": "@jupyter-widgets/controls",
      "_model_module_version": "1.5.0",
      "_model_name": "LabelModel",
      "_view_count": null,
      "_view_module": "@jupyter-widgets/controls",
      "_view_module_version": "1.5.0",
      "_view_name": "LabelView",
      "description": "",
      "description_tooltip": null,
      "layout": "IPY_MODEL_e34e65f451c343809bb4268283c3fb8f",
      "placeholder": "​",
      "style": "IPY_MODEL_4c64c9c08ef04501a6f331ffa8552e9d",
      "value": " 28.41MB of 28.41MB uploaded (0.00MB deduped)\r"
     }
    },
    "fdb29471447d4230837b61a51168a76c": {
     "model_module": "@jupyter-widgets/base",
     "model_module_version": "1.2.0",
     "model_name": "LayoutModel",
     "state": {
      "_model_module": "@jupyter-widgets/base",
      "_model_module_version": "1.2.0",
      "_model_name": "LayoutModel",
      "_view_count": null,
      "_view_module": "@jupyter-widgets/base",
      "_view_module_version": "1.2.0",
      "_view_name": "LayoutView",
      "align_content": null,
      "align_items": null,
      "align_self": null,
      "border": null,
      "bottom": null,
      "display": null,
      "flex": null,
      "flex_flow": null,
      "grid_area": null,
      "grid_auto_columns": null,
      "grid_auto_flow": null,
      "grid_auto_rows": null,
      "grid_column": null,
      "grid_gap": null,
      "grid_row": null,
      "grid_template_areas": null,
      "grid_template_columns": null,
      "grid_template_rows": null,
      "height": null,
      "justify_content": null,
      "justify_items": null,
      "left": null,
      "margin": null,
      "max_height": null,
      "max_width": null,
      "min_height": null,
      "min_width": null,
      "object_fit": null,
      "object_position": null,
      "order": null,
      "overflow": null,
      "overflow_x": null,
      "overflow_y": null,
      "padding": null,
      "right": null,
      "top": null,
      "visibility": null,
      "width": null
     }
    }
   }
  }
 },
 "nbformat": 4,
 "nbformat_minor": 4
}
