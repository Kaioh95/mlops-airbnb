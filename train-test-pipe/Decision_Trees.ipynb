{
 "cells": [
  {
   "cell_type": "markdown",
   "metadata": {
    "id": "0I4pgzLVtBTP"
   },
   "source": [
    "# 1.0 An end-to-end classification problem\n",
    "\n"
   ]
  },
  {
   "cell_type": "markdown",
   "metadata": {
    "id": "Dh34gim6KPtT"
   },
   "source": [
    "## 1.1 Dataset description"
   ]
  },
  {
   "cell_type": "markdown",
   "metadata": {
    "id": "iE8OJoDZ5AFK"
   },
   "source": [
    "\n",
    "\n",
    "We'll be looking at individual income in the United States. The **data** is from the **1994 census**, and contains information on an individual's **marital status**, **age**, **type of work**, and more. The **target column**, or what we want to predict, is whether individuals make less than or equal to 50k a year, or more than **50k a year**.\n",
    "\n",
    "You can download the data from the [University of California, Irvine's website](http://archive.ics.uci.edu/ml/datasets/Adult).\n",
    "\n",
    "\n"
   ]
  },
  {
   "cell_type": "markdown",
   "metadata": {
    "id": "7UpxKxU1Ej7f"
   },
   "source": [
    "## 1.2 Load Libraries, Train and Validation Sets"
   ]
  },
  {
   "cell_type": "code",
   "execution_count": null,
   "metadata": {
    "id": "uT3UYjmT9KlL"
   },
   "outputs": [],
   "source": [
    "#!pip install wandb"
   ]
  },
  {
   "cell_type": "code",
   "execution_count": 13,
   "metadata": {
    "id": "5YAxtXO7tFvo"
   },
   "outputs": [],
   "source": [
    "import pandas as pd\n",
    "import matplotlib.pyplot as plt\n",
    "import wandb\n",
    "from sklearn.model_selection import train_test_split\n",
    "from sklearn.neighbors import LocalOutlierFactor\n",
    "from sklearn.base import BaseEstimator, TransformerMixin\n",
    "from sklearn.preprocessing import LabelEncoder\n",
    "from sklearn.preprocessing import OneHotEncoder\n",
    "from sklearn.preprocessing import MinMaxScaler\n",
    "from sklearn.preprocessing import StandardScaler\n",
    "from sklearn.pipeline import Pipeline, FeatureUnion\n",
    "from sklearn.metrics import roc_auc_score\n",
    "from sklearn.metrics import classification_report\n",
    "from sklearn.metrics import confusion_matrix\n",
    "from sklearn.metrics import plot_confusion_matrix\n",
    "from sklearn.metrics import ConfusionMatrixDisplay\n",
    "from sklearn.metrics import accuracy_score\n",
    "from sklearn.tree import DecisionTreeRegressor\n",
    "from sklearn.tree import plot_tree\n",
    "\n",
    "from sklearn import set_config\n",
    "set_config(display='diagram')"
   ]
  },
  {
   "cell_type": "code",
   "execution_count": 2,
   "metadata": {
    "id": "UH7EG6dX-X0V"
   },
   "outputs": [
    {
     "name": "stderr",
     "output_type": "stream",
     "text": [
      "\u001b[34m\u001b[1mwandb\u001b[0m: You can find your API key in your browser here: https://wandb.ai/authorize\n"
     ]
    },
    {
     "name": "stdin",
     "output_type": "stream",
     "text": [
      "\u001b[34m\u001b[1mwandb\u001b[0m: Paste an API key from your profile and hit enter, or press ctrl+c to quit:  ········································\n"
     ]
    },
    {
     "name": "stderr",
     "output_type": "stream",
     "text": [
      "\u001b[34m\u001b[1mwandb\u001b[0m: Appending key for api.wandb.ai to your netrc file: /home/kaio/.netrc\n"
     ]
    },
    {
     "data": {
      "text/plain": [
       "True"
      ]
     },
     "execution_count": 2,
     "metadata": {},
     "output_type": "execute_result"
    }
   ],
   "source": [
    "wandb.login(relogin=True)"
   ]
  },
  {
   "cell_type": "code",
   "execution_count": 3,
   "metadata": {
    "id": "fkclIcNO-f4I"
   },
   "outputs": [
    {
     "name": "stderr",
     "output_type": "stream",
     "text": [
      "\u001b[34m\u001b[1mwandb\u001b[0m: Currently logged in as: \u001b[33mmlops-kaio\u001b[0m (use `wandb login --relogin` to force relogin)\n",
      "\u001b[34m\u001b[1mwandb\u001b[0m: wandb version 0.12.21 is available!  To upgrade, please run:\n",
      "\u001b[34m\u001b[1mwandb\u001b[0m:  $ pip install wandb --upgrade\n"
     ]
    },
    {
     "data": {
      "text/html": [
       "\n",
       "                    Syncing run <strong><a href=\"https://wandb.ai/mlops-kaio/airbnb_eda/runs/1bdreebc\" target=\"_blank\">drawn-dawn-5</a></strong> to <a href=\"https://wandb.ai/mlops-kaio/airbnb_eda\" target=\"_blank\">Weights & Biases</a> (<a href=\"https://docs.wandb.com/integrations/jupyter.html\" target=\"_blank\">docs</a>).<br/>\n",
       "\n",
       "                "
      ],
      "text/plain": [
       "<IPython.core.display.HTML object>"
      ]
     },
     "metadata": {},
     "output_type": "display_data"
    }
   ],
   "source": [
    "# save_code tracking all changes of the notebook and sync with Wandb\n",
    "run = wandb.init(project=\"airbnb_eda\", job_type=\"train_test\", save_code=True)"
   ]
  },
  {
   "cell_type": "code",
   "execution_count": 178,
   "metadata": {
    "id": "1OUlGInp-lC-"
   },
   "outputs": [],
   "source": [
    "local_path = run.use_artifact(\"airbnb_eda/data_train.csv:latest\").file()\n",
    "df_train = pd.read_csv(local_path)"
   ]
  },
  {
   "cell_type": "code",
   "execution_count": 179,
   "metadata": {
    "id": "AytDrZpM42t7"
   },
   "outputs": [
    {
     "data": {
      "text/html": [
       "<div>\n",
       "<style scoped>\n",
       "    .dataframe tbody tr th:only-of-type {\n",
       "        vertical-align: middle;\n",
       "    }\n",
       "\n",
       "    .dataframe tbody tr th {\n",
       "        vertical-align: top;\n",
       "    }\n",
       "\n",
       "    .dataframe thead th {\n",
       "        text-align: right;\n",
       "    }\n",
       "</style>\n",
       "<table border=\"1\" class=\"dataframe\">\n",
       "  <thead>\n",
       "    <tr style=\"text-align: right;\">\n",
       "      <th></th>\n",
       "      <th>room_type</th>\n",
       "      <th>accommodates</th>\n",
       "      <th>bathrooms_text</th>\n",
       "      <th>bedrooms</th>\n",
       "      <th>beds</th>\n",
       "      <th>price</th>\n",
       "      <th>minimum_nights</th>\n",
       "      <th>maximum_nights</th>\n",
       "      <th>minimum_minimum_nights</th>\n",
       "      <th>maximum_minimum_nights</th>\n",
       "      <th>...</th>\n",
       "      <th>review_scores_checkin</th>\n",
       "      <th>review_scores_communication</th>\n",
       "      <th>review_scores_location</th>\n",
       "      <th>review_scores_value</th>\n",
       "      <th>instant_bookable</th>\n",
       "      <th>calculated_host_listings_count</th>\n",
       "      <th>calculated_host_listings_count_entire_homes</th>\n",
       "      <th>calculated_host_listings_count_private_rooms</th>\n",
       "      <th>calculated_host_listings_count_shared_rooms</th>\n",
       "      <th>reviews_per_month</th>\n",
       "    </tr>\n",
       "  </thead>\n",
       "  <tbody>\n",
       "    <tr>\n",
       "      <th>0</th>\n",
       "      <td>Private room</td>\n",
       "      <td>3</td>\n",
       "      <td>1.0</td>\n",
       "      <td>1.0</td>\n",
       "      <td>3.0</td>\n",
       "      <td>279.0</td>\n",
       "      <td>2</td>\n",
       "      <td>60</td>\n",
       "      <td>2</td>\n",
       "      <td>5</td>\n",
       "      <td>...</td>\n",
       "      <td>4.54</td>\n",
       "      <td>4.67</td>\n",
       "      <td>4.41</td>\n",
       "      <td>4.68</td>\n",
       "      <td>f</td>\n",
       "      <td>5</td>\n",
       "      <td>0</td>\n",
       "      <td>5</td>\n",
       "      <td>0</td>\n",
       "      <td>1.59</td>\n",
       "    </tr>\n",
       "    <tr>\n",
       "      <th>1</th>\n",
       "      <td>Entire home/apt</td>\n",
       "      <td>2</td>\n",
       "      <td>1.5</td>\n",
       "      <td>1.0</td>\n",
       "      <td>2.0</td>\n",
       "      <td>674.0</td>\n",
       "      <td>1</td>\n",
       "      <td>30</td>\n",
       "      <td>1</td>\n",
       "      <td>5</td>\n",
       "      <td>...</td>\n",
       "      <td>5.00</td>\n",
       "      <td>5.00</td>\n",
       "      <td>4.97</td>\n",
       "      <td>4.86</td>\n",
       "      <td>t</td>\n",
       "      <td>1</td>\n",
       "      <td>1</td>\n",
       "      <td>0</td>\n",
       "      <td>0</td>\n",
       "      <td>1.19</td>\n",
       "    </tr>\n",
       "    <tr>\n",
       "      <th>2</th>\n",
       "      <td>Entire home/apt</td>\n",
       "      <td>2</td>\n",
       "      <td>1.0</td>\n",
       "      <td>1.0</td>\n",
       "      <td>1.0</td>\n",
       "      <td>286.0</td>\n",
       "      <td>3</td>\n",
       "      <td>1125</td>\n",
       "      <td>3</td>\n",
       "      <td>3</td>\n",
       "      <td>...</td>\n",
       "      <td>5.00</td>\n",
       "      <td>5.00</td>\n",
       "      <td>5.00</td>\n",
       "      <td>5.00</td>\n",
       "      <td>f</td>\n",
       "      <td>1</td>\n",
       "      <td>1</td>\n",
       "      <td>0</td>\n",
       "      <td>0</td>\n",
       "      <td>1.29</td>\n",
       "    </tr>\n",
       "    <tr>\n",
       "      <th>3</th>\n",
       "      <td>Entire home/apt</td>\n",
       "      <td>6</td>\n",
       "      <td>1.5</td>\n",
       "      <td>3.0</td>\n",
       "      <td>4.0</td>\n",
       "      <td>843.0</td>\n",
       "      <td>3</td>\n",
       "      <td>1125</td>\n",
       "      <td>3</td>\n",
       "      <td>3</td>\n",
       "      <td>...</td>\n",
       "      <td>4.97</td>\n",
       "      <td>4.91</td>\n",
       "      <td>4.91</td>\n",
       "      <td>4.76</td>\n",
       "      <td>f</td>\n",
       "      <td>1</td>\n",
       "      <td>1</td>\n",
       "      <td>0</td>\n",
       "      <td>0</td>\n",
       "      <td>1.58</td>\n",
       "    </tr>\n",
       "    <tr>\n",
       "      <th>4</th>\n",
       "      <td>Private room</td>\n",
       "      <td>4</td>\n",
       "      <td>1.0</td>\n",
       "      <td>1.0</td>\n",
       "      <td>3.0</td>\n",
       "      <td>150.0</td>\n",
       "      <td>1</td>\n",
       "      <td>30</td>\n",
       "      <td>1</td>\n",
       "      <td>1</td>\n",
       "      <td>...</td>\n",
       "      <td>4.33</td>\n",
       "      <td>4.17</td>\n",
       "      <td>4.83</td>\n",
       "      <td>4.50</td>\n",
       "      <td>f</td>\n",
       "      <td>2</td>\n",
       "      <td>0</td>\n",
       "      <td>2</td>\n",
       "      <td>0</td>\n",
       "      <td>0.13</td>\n",
       "    </tr>\n",
       "  </tbody>\n",
       "</table>\n",
       "<p>5 rows × 35 columns</p>\n",
       "</div>"
      ],
      "text/plain": [
       "         room_type  accommodates  bathrooms_text  bedrooms  beds  price  \\\n",
       "0     Private room             3             1.0       1.0   3.0  279.0   \n",
       "1  Entire home/apt             2             1.5       1.0   2.0  674.0   \n",
       "2  Entire home/apt             2             1.0       1.0   1.0  286.0   \n",
       "3  Entire home/apt             6             1.5       3.0   4.0  843.0   \n",
       "4     Private room             4             1.0       1.0   3.0  150.0   \n",
       "\n",
       "   minimum_nights  maximum_nights  minimum_minimum_nights  \\\n",
       "0               2              60                       2   \n",
       "1               1              30                       1   \n",
       "2               3            1125                       3   \n",
       "3               3            1125                       3   \n",
       "4               1              30                       1   \n",
       "\n",
       "   maximum_minimum_nights  ...  review_scores_checkin  \\\n",
       "0                       5  ...                   4.54   \n",
       "1                       5  ...                   5.00   \n",
       "2                       3  ...                   5.00   \n",
       "3                       3  ...                   4.97   \n",
       "4                       1  ...                   4.33   \n",
       "\n",
       "   review_scores_communication  review_scores_location  review_scores_value  \\\n",
       "0                         4.67                    4.41                 4.68   \n",
       "1                         5.00                    4.97                 4.86   \n",
       "2                         5.00                    5.00                 5.00   \n",
       "3                         4.91                    4.91                 4.76   \n",
       "4                         4.17                    4.83                 4.50   \n",
       "\n",
       "  instant_bookable  calculated_host_listings_count  \\\n",
       "0                f                               5   \n",
       "1                t                               1   \n",
       "2                f                               1   \n",
       "3                f                               1   \n",
       "4                f                               2   \n",
       "\n",
       "   calculated_host_listings_count_entire_homes  \\\n",
       "0                                            0   \n",
       "1                                            1   \n",
       "2                                            1   \n",
       "3                                            1   \n",
       "4                                            0   \n",
       "\n",
       "   calculated_host_listings_count_private_rooms  \\\n",
       "0                                             5   \n",
       "1                                             0   \n",
       "2                                             0   \n",
       "3                                             0   \n",
       "4                                             2   \n",
       "\n",
       "   calculated_host_listings_count_shared_rooms  reviews_per_month  \n",
       "0                                            0               1.59  \n",
       "1                                            0               1.19  \n",
       "2                                            0               1.29  \n",
       "3                                            0               1.58  \n",
       "4                                            0               0.13  \n",
       "\n",
       "[5 rows x 35 columns]"
      ]
     },
     "execution_count": 179,
     "metadata": {},
     "output_type": "execute_result"
    }
   ],
   "source": [
    "df_train.head()"
   ]
  },
  {
   "cell_type": "markdown",
   "metadata": {
    "id": "S-DUXVHX6b3v"
   },
   "source": [
    "## 1.3 Train and Dev split"
   ]
  },
  {
   "cell_type": "code",
   "execution_count": 180,
   "metadata": {
    "id": "qpzYMp3pCvfp"
   },
   "outputs": [],
   "source": [
    "# split-out train/validation and test dataset\n",
    "x_train, x_val, y_train, y_val = train_test_split(df_train.drop(labels=\"price\",axis=1),\n",
    "                                                    df_train[\"price\"],\n",
    "                                                    test_size=0.30,\n",
    "                                                    random_state=42,\n",
    "                                                    shuffle=True)"
   ]
  },
  {
   "cell_type": "code",
   "execution_count": 181,
   "metadata": {
    "id": "l8S6amWMwvKb"
   },
   "outputs": [
    {
     "name": "stdout",
     "output_type": "stream",
     "text": [
      "x train: (6866, 34)\n",
      "y train: (6866,)\n",
      "x val: (2943, 34)\n",
      "y val: (2943,)\n"
     ]
    }
   ],
   "source": [
    "print(\"x train: {}\".format(x_train.shape))\n",
    "print(\"y train: {}\".format(y_train.shape))\n",
    "print(\"x val: {}\".format(x_val.shape))\n",
    "print(\"y val: {}\".format(y_val.shape))"
   ]
  },
  {
   "cell_type": "markdown",
   "metadata": {
    "id": "yVSp2519_WDo"
   },
   "source": [
    "## 1.4 Removal Outliers"
   ]
  },
  {
   "cell_type": "code",
   "execution_count": 182,
   "metadata": {
    "id": "3GpD1w8h_Zas"
   },
   "outputs": [
    {
     "name": "stdout",
     "output_type": "stream",
     "text": [
      "X_train shape [original]: (6866, 34)\n",
      "X_train shape [outlier removal]: (6182, 34)\n"
     ]
    }
   ],
   "source": [
    "# Verify if columns[int64] has outliers (without data leakage!!!!!!!)\n",
    "\n",
    "# data\n",
    "x = x_train.select_dtypes(\"number\").copy()\n",
    "\n",
    "# identify outlier in the dataset\n",
    "lof = LocalOutlierFactor()\n",
    "outlier = lof.fit_predict(x)\n",
    "mask = outlier != -1\n",
    "\n",
    "print(\"X_train shape [original]: {}\".format(x_train.shape))\n",
    "print(\"X_train shape [outlier removal]: {}\".format(x_train.loc[mask,:].shape))\n",
    "\n",
    "# income with outliner\n",
    "x_train = x_train.loc[mask,:].copy()\n",
    "y_train = y_train[mask].copy()"
   ]
  },
  {
   "cell_type": "markdown",
   "metadata": {
    "id": "Kq2ceB9C6gwr"
   },
   "source": [
    "## 1.5 Encoding target variable"
   ]
  },
  {
   "cell_type": "markdown",
   "metadata": {
    "id": "xII7rHrixqhA"
   },
   "source": [
    "If a categorical target variable needs to be encoded for a classification predictive modeling problem, then the [LabelEncoder class](https://scikit-learn.org/stable/modules/generated/sklearn.preprocessing.LabelEncoder.html) can be used."
   ]
  },
  {
   "cell_type": "code",
   "execution_count": 183,
   "metadata": {},
   "outputs": [
    {
     "data": {
      "text/html": [
       "<div>\n",
       "<style scoped>\n",
       "    .dataframe tbody tr th:only-of-type {\n",
       "        vertical-align: middle;\n",
       "    }\n",
       "\n",
       "    .dataframe tbody tr th {\n",
       "        vertical-align: top;\n",
       "    }\n",
       "\n",
       "    .dataframe thead th {\n",
       "        text-align: right;\n",
       "    }\n",
       "</style>\n",
       "<table border=\"1\" class=\"dataframe\">\n",
       "  <thead>\n",
       "    <tr style=\"text-align: right;\">\n",
       "      <th></th>\n",
       "      <th>room_type</th>\n",
       "      <th>accommodates</th>\n",
       "      <th>bathrooms_text</th>\n",
       "      <th>bedrooms</th>\n",
       "      <th>beds</th>\n",
       "      <th>minimum_nights</th>\n",
       "      <th>maximum_nights</th>\n",
       "      <th>minimum_minimum_nights</th>\n",
       "      <th>maximum_minimum_nights</th>\n",
       "      <th>minimum_maximum_nights</th>\n",
       "      <th>...</th>\n",
       "      <th>review_scores_value</th>\n",
       "      <th>instant_bookable</th>\n",
       "      <th>calculated_host_listings_count</th>\n",
       "      <th>calculated_host_listings_count_entire_homes</th>\n",
       "      <th>calculated_host_listings_count_private_rooms</th>\n",
       "      <th>calculated_host_listings_count_shared_rooms</th>\n",
       "      <th>reviews_per_month</th>\n",
       "      <th>x0_Hotel room</th>\n",
       "      <th>x0_Private room</th>\n",
       "      <th>x0_Shared room</th>\n",
       "    </tr>\n",
       "  </thead>\n",
       "  <tbody>\n",
       "    <tr>\n",
       "      <th>5281</th>\n",
       "      <td>Private room</td>\n",
       "      <td>2</td>\n",
       "      <td>1.0</td>\n",
       "      <td>1.0</td>\n",
       "      <td>2.0</td>\n",
       "      <td>3</td>\n",
       "      <td>1125</td>\n",
       "      <td>3</td>\n",
       "      <td>3</td>\n",
       "      <td>1125</td>\n",
       "      <td>...</td>\n",
       "      <td>5.00</td>\n",
       "      <td>t</td>\n",
       "      <td>2</td>\n",
       "      <td>0</td>\n",
       "      <td>2</td>\n",
       "      <td>0</td>\n",
       "      <td>0.09</td>\n",
       "      <td>0.0</td>\n",
       "      <td>1.0</td>\n",
       "      <td>0.0</td>\n",
       "    </tr>\n",
       "    <tr>\n",
       "      <th>6547</th>\n",
       "      <td>Entire home/apt</td>\n",
       "      <td>5</td>\n",
       "      <td>2.0</td>\n",
       "      <td>2.0</td>\n",
       "      <td>4.0</td>\n",
       "      <td>3</td>\n",
       "      <td>1125</td>\n",
       "      <td>3</td>\n",
       "      <td>3</td>\n",
       "      <td>1125</td>\n",
       "      <td>...</td>\n",
       "      <td>4.69</td>\n",
       "      <td>f</td>\n",
       "      <td>3</td>\n",
       "      <td>3</td>\n",
       "      <td>0</td>\n",
       "      <td>0</td>\n",
       "      <td>0.20</td>\n",
       "      <td>0.0</td>\n",
       "      <td>0.0</td>\n",
       "      <td>0.0</td>\n",
       "    </tr>\n",
       "    <tr>\n",
       "      <th>1568</th>\n",
       "      <td>Shared room</td>\n",
       "      <td>4</td>\n",
       "      <td>1.0</td>\n",
       "      <td>1.0</td>\n",
       "      <td>1.0</td>\n",
       "      <td>1</td>\n",
       "      <td>1125</td>\n",
       "      <td>1</td>\n",
       "      <td>1</td>\n",
       "      <td>1125</td>\n",
       "      <td>...</td>\n",
       "      <td>5.00</td>\n",
       "      <td>t</td>\n",
       "      <td>4</td>\n",
       "      <td>0</td>\n",
       "      <td>0</td>\n",
       "      <td>4</td>\n",
       "      <td>0.04</td>\n",
       "      <td>0.0</td>\n",
       "      <td>0.0</td>\n",
       "      <td>1.0</td>\n",
       "    </tr>\n",
       "    <tr>\n",
       "      <th>764</th>\n",
       "      <td>Entire home/apt</td>\n",
       "      <td>2</td>\n",
       "      <td>1.0</td>\n",
       "      <td>1.0</td>\n",
       "      <td>1.0</td>\n",
       "      <td>1</td>\n",
       "      <td>1125</td>\n",
       "      <td>1</td>\n",
       "      <td>1</td>\n",
       "      <td>1125</td>\n",
       "      <td>...</td>\n",
       "      <td>4.55</td>\n",
       "      <td>t</td>\n",
       "      <td>2</td>\n",
       "      <td>2</td>\n",
       "      <td>0</td>\n",
       "      <td>0</td>\n",
       "      <td>0.66</td>\n",
       "      <td>0.0</td>\n",
       "      <td>0.0</td>\n",
       "      <td>0.0</td>\n",
       "    </tr>\n",
       "    <tr>\n",
       "      <th>3350</th>\n",
       "      <td>Private room</td>\n",
       "      <td>1</td>\n",
       "      <td>1.0</td>\n",
       "      <td>1.0</td>\n",
       "      <td>1.0</td>\n",
       "      <td>1</td>\n",
       "      <td>20</td>\n",
       "      <td>1</td>\n",
       "      <td>1</td>\n",
       "      <td>20</td>\n",
       "      <td>...</td>\n",
       "      <td>4.93</td>\n",
       "      <td>f</td>\n",
       "      <td>2</td>\n",
       "      <td>0</td>\n",
       "      <td>2</td>\n",
       "      <td>0</td>\n",
       "      <td>1.00</td>\n",
       "      <td>0.0</td>\n",
       "      <td>1.0</td>\n",
       "      <td>0.0</td>\n",
       "    </tr>\n",
       "  </tbody>\n",
       "</table>\n",
       "<p>5 rows × 37 columns</p>\n",
       "</div>"
      ],
      "text/plain": [
       "            room_type  accommodates  bathrooms_text  bedrooms  beds  \\\n",
       "5281     Private room             2             1.0       1.0   2.0   \n",
       "6547  Entire home/apt             5             2.0       2.0   4.0   \n",
       "1568      Shared room             4             1.0       1.0   1.0   \n",
       "764   Entire home/apt             2             1.0       1.0   1.0   \n",
       "3350     Private room             1             1.0       1.0   1.0   \n",
       "\n",
       "      minimum_nights  maximum_nights  minimum_minimum_nights  \\\n",
       "5281               3            1125                       3   \n",
       "6547               3            1125                       3   \n",
       "1568               1            1125                       1   \n",
       "764                1            1125                       1   \n",
       "3350               1              20                       1   \n",
       "\n",
       "      maximum_minimum_nights  minimum_maximum_nights  ...  \\\n",
       "5281                       3                    1125  ...   \n",
       "6547                       3                    1125  ...   \n",
       "1568                       1                    1125  ...   \n",
       "764                        1                    1125  ...   \n",
       "3350                       1                      20  ...   \n",
       "\n",
       "      review_scores_value  instant_bookable  calculated_host_listings_count  \\\n",
       "5281                 5.00                 t                               2   \n",
       "6547                 4.69                 f                               3   \n",
       "1568                 5.00                 t                               4   \n",
       "764                  4.55                 t                               2   \n",
       "3350                 4.93                 f                               2   \n",
       "\n",
       "     calculated_host_listings_count_entire_homes  \\\n",
       "5281                                           0   \n",
       "6547                                           3   \n",
       "1568                                           0   \n",
       "764                                            2   \n",
       "3350                                           0   \n",
       "\n",
       "      calculated_host_listings_count_private_rooms  \\\n",
       "5281                                             2   \n",
       "6547                                             0   \n",
       "1568                                             0   \n",
       "764                                              0   \n",
       "3350                                             2   \n",
       "\n",
       "      calculated_host_listings_count_shared_rooms  reviews_per_month  \\\n",
       "5281                                            0               0.09   \n",
       "6547                                            0               0.20   \n",
       "1568                                            4               0.04   \n",
       "764                                             0               0.66   \n",
       "3350                                            0               1.00   \n",
       "\n",
       "      x0_Hotel room  x0_Private room  x0_Shared room  \n",
       "5281            0.0              1.0             0.0  \n",
       "6547            0.0              0.0             0.0  \n",
       "1568            0.0              0.0             1.0  \n",
       "764             0.0              0.0             0.0  \n",
       "3350            0.0              1.0             0.0  \n",
       "\n",
       "[5 rows x 37 columns]"
      ]
     },
     "execution_count": 183,
     "metadata": {},
     "output_type": "execute_result"
    }
   ],
   "source": [
    "# \n",
    "# just an experimentation\n",
    "#\n",
    "\n",
    "# drop=first erase redundant column\n",
    "onehot = OneHotEncoder(sparse=False,drop=\"first\")\n",
    "# fit using x_train\n",
    "onehot.fit(x_train[\"room_type\"].values.reshape(-1,1))\n",
    "\n",
    "x_val_aux = x_val.copy()\n",
    "x_train_aux = x_train.copy()\n",
    "\n",
    "# transform train and val\n",
    "x_train_aux[onehot.get_feature_names_out()] = onehot.transform(\n",
    "    x_train_aux[\"room_type\"].values.reshape(-1,1))\n",
    "x_val_aux[onehot.get_feature_names_out()] = onehot.transform(\n",
    "    x_val_aux[\"room_type\"].values.reshape(-1,1))\n",
    "\n",
    "x_val_aux.head()"
   ]
  },
  {
   "cell_type": "code",
   "execution_count": 187,
   "metadata": {},
   "outputs": [
    {
     "data": {
      "text/plain": [
       "array(['x0_Hotel room', 'x0_Private room', 'x0_Shared room'], dtype=object)"
      ]
     },
     "execution_count": 187,
     "metadata": {},
     "output_type": "execute_result"
    }
   ],
   "source": [
    "onehot.get_feature_names_out()"
   ]
  },
  {
   "cell_type": "code",
   "execution_count": 188,
   "metadata": {},
   "outputs": [
    {
     "data": {
      "text/plain": [
       "array([['Entire home/apt']], dtype=object)"
      ]
     },
     "execution_count": 188,
     "metadata": {},
     "output_type": "execute_result"
    }
   ],
   "source": [
    "onehot.inverse_transform([[0, 0, 0]])"
   ]
  },
  {
   "cell_type": "code",
   "execution_count": 189,
   "metadata": {},
   "outputs": [
    {
     "data": {
      "text/plain": [
       "['room_type', 'has_availability', 'instant_bookable']"
      ]
     },
     "execution_count": 189,
     "metadata": {},
     "output_type": "execute_result"
    }
   ],
   "source": [
    "# 1. just to review what are categorical columns\n",
    "x_train.select_dtypes(\"object\").columns.to_list()"
   ]
  },
  {
   "cell_type": "code",
   "execution_count": null,
   "metadata": {
    "tags": []
   },
   "outputs": [],
   "source": [
    "# 08 columns are object, transform them to Categorical\n",
    "\n",
    "# transform object columns to Categorical\n",
    "'''for name in x_train.select_dtypes(\"object\").columns.to_list():\n",
    "  onehot = OneHotEncoder(sparse=False,drop=\"first\")\n",
    "  # fit using x_train\n",
    "  onehot.fit(x_train[name].values.reshape(-1,1))\n",
    "\n",
    "  # transform train and test\n",
    "  x_train[onehot.get_feature_names_out()] = onehot.transform(x_train[name].values.reshape(-1,1))\n",
    "  x_val[onehot.get_feature_names_out()] = onehot.transform(x_val[name].values.reshape(-1,1))'''"
   ]
  },
  {
   "cell_type": "code",
   "execution_count": null,
   "metadata": {},
   "outputs": [],
   "source": [
    "#cols=['room_type','has_availability','instant_bookable']\n",
    "\n",
    "#x_train.drop(labels=cols,axis=1,inplace=True)\n",
    "#x_val.drop(labels=cols,axis=1,inplace=True)"
   ]
  },
  {
   "cell_type": "code",
   "execution_count": 190,
   "metadata": {},
   "outputs": [
    {
     "data": {
      "text/plain": [
       "(6182, 34)"
      ]
     },
     "execution_count": 190,
     "metadata": {},
     "output_type": "execute_result"
    }
   ],
   "source": [
    "x_train.shape"
   ]
  },
  {
   "cell_type": "markdown",
   "metadata": {
    "id": "Q1HmpavdyEZI"
   },
   "source": [
    "## 1.6 Pipeline "
   ]
  },
  {
   "cell_type": "markdown",
   "metadata": {
    "id": "L0Lbzn2vyOxI"
   },
   "source": [
    "### 1.6.1 Column extractor"
   ]
  },
  {
   "cell_type": "code",
   "execution_count": 191,
   "metadata": {
    "id": "HRlGD305yK-8"
   },
   "outputs": [],
   "source": [
    "#Custom Transformer that extracts columns passed as argument to its constructor \n",
    "class FeatureSelector( BaseEstimator, TransformerMixin ):\n",
    "    #Class Constructor \n",
    "    def __init__( self, feature_names ):\n",
    "        self.feature_names = feature_names \n",
    "    \n",
    "    #Return self nothing else to do here    \n",
    "    def fit( self, X, y = None ):\n",
    "        return self \n",
    "    \n",
    "    #Method that describes what we need this transformer to do\n",
    "    def transform( self, X, y = None ):\n",
    "        return X[ self.feature_names ]"
   ]
  },
  {
   "cell_type": "markdown",
   "metadata": {
    "id": "6O2SsQeVyhFv"
   },
   "source": [
    "### 1.6.2 Categorical transformation"
   ]
  },
  {
   "cell_type": "code",
   "execution_count": 192,
   "metadata": {
    "id": "RTb4zixxyeuF"
   },
   "outputs": [],
   "source": [
    "# Handling categorical features \n",
    "class CategoricalTransformer( BaseEstimator, TransformerMixin ):\n",
    "    # Class constructor method that takes one boolean as its argument\n",
    "    def __init__(self, new_features=True):\n",
    "        self.new_features = new_features\n",
    "        self.colnames = None\n",
    "\n",
    "    #Return self nothing else to do here    \n",
    "    def fit( self, X, y = None ):\n",
    "        return self \n",
    "\n",
    "    def get_feature_names(self):\n",
    "        return self.colnames.tolist()\n",
    "\n",
    "    # Transformer method we wrote for this transformer \n",
    "    def transform(self, X , y = None ):\n",
    "        df = X.copy()\n",
    "\n",
    "        # customize feature?\n",
    "        # how can I identify this one? EDA!!!!\n",
    "        if self.new_features: \n",
    "\n",
    "            # minimize the cardinality of native_country feature\n",
    "            df.loc[df['native_country']!=' United-States','native_country'] = 'non_usa' \n",
    "\n",
    "            # replace ? with Unknown\n",
    "            edit_cols = ['native_country','occupation','workclass']\n",
    "            for col in edit_cols:\n",
    "                df.loc[df[col] == ' ?', col] = 'unknown'\n",
    "\n",
    "            # decrease the cardinality of education feature\n",
    "            hs_grad = [' HS-grad',' 11th',' 10th',' 9th',' 12th']\n",
    "            elementary = [' 1st-4th',' 5th-6th',' 7th-8th']\n",
    "            # replace\n",
    "            df['education'].replace(to_replace = hs_grad,value = 'HS-grad',inplace = True)\n",
    "            df['education'].replace(to_replace = elementary,value = 'elementary_school',inplace = True)\n",
    "\n",
    "            # adjust marital_status feature\n",
    "            married= [' Married-spouse-absent',' Married-civ-spouse',' Married-AF-spouse']\n",
    "            separated = [' Separated',' Divorced']\n",
    "            # replace \n",
    "            df['marital_status'].replace(to_replace = married ,value = 'Married',inplace = True)\n",
    "            df['marital_status'].replace(to_replace = separated,value = 'Separated',inplace = True)\n",
    "\n",
    "            # adjust workclass feature\n",
    "            self_employed = [' Self-emp-not-inc',' Self-emp-inc']\n",
    "            govt_employees = [' Local-gov',' State-gov',' Federal-gov']\n",
    "            # replace elements in list.\n",
    "            df['workclass'].replace(to_replace = self_employed ,value = 'Self_employed',inplace = True)\n",
    "            df['workclass'].replace(to_replace = govt_employees,value = 'Govt_employees',inplace = True)\n",
    "\n",
    "        # update column names\n",
    "        self.colnames = df.columns      \n",
    "\n",
    "        return df"
   ]
  },
  {
   "cell_type": "markdown",
   "metadata": {
    "id": "PZ74X1pT6zSy"
   },
   "source": [
    "#### 1.6.2.1 Evaluate"
   ]
  },
  {
   "cell_type": "code",
   "execution_count": 193,
   "metadata": {
    "id": "Mz2WX53svcKK"
   },
   "outputs": [
    {
     "data": {
      "text/html": [
       "<div>\n",
       "<style scoped>\n",
       "    .dataframe tbody tr th:only-of-type {\n",
       "        vertical-align: middle;\n",
       "    }\n",
       "\n",
       "    .dataframe tbody tr th {\n",
       "        vertical-align: top;\n",
       "    }\n",
       "\n",
       "    .dataframe thead th {\n",
       "        text-align: right;\n",
       "    }\n",
       "</style>\n",
       "<table border=\"1\" class=\"dataframe\">\n",
       "  <thead>\n",
       "    <tr style=\"text-align: right;\">\n",
       "      <th></th>\n",
       "      <th>room_type</th>\n",
       "      <th>has_availability</th>\n",
       "      <th>instant_bookable</th>\n",
       "    </tr>\n",
       "  </thead>\n",
       "  <tbody>\n",
       "    <tr>\n",
       "      <th>5023</th>\n",
       "      <td>Entire home/apt</td>\n",
       "      <td>t</td>\n",
       "      <td>f</td>\n",
       "    </tr>\n",
       "    <tr>\n",
       "      <th>7585</th>\n",
       "      <td>Entire home/apt</td>\n",
       "      <td>t</td>\n",
       "      <td>t</td>\n",
       "    </tr>\n",
       "    <tr>\n",
       "      <th>1598</th>\n",
       "      <td>Entire home/apt</td>\n",
       "      <td>t</td>\n",
       "      <td>f</td>\n",
       "    </tr>\n",
       "    <tr>\n",
       "      <th>9162</th>\n",
       "      <td>Private room</td>\n",
       "      <td>t</td>\n",
       "      <td>f</td>\n",
       "    </tr>\n",
       "    <tr>\n",
       "      <th>300</th>\n",
       "      <td>Private room</td>\n",
       "      <td>t</td>\n",
       "      <td>f</td>\n",
       "    </tr>\n",
       "  </tbody>\n",
       "</table>\n",
       "</div>"
      ],
      "text/plain": [
       "            room_type has_availability instant_bookable\n",
       "5023  Entire home/apt                t                f\n",
       "7585  Entire home/apt                t                t\n",
       "1598  Entire home/apt                t                f\n",
       "9162     Private room                t                f\n",
       "300      Private room                t                f"
      ]
     },
     "execution_count": 193,
     "metadata": {},
     "output_type": "execute_result"
    }
   ],
   "source": [
    "# \n",
    "# for validation purposes\n",
    "#\n",
    "model = FeatureSelector(x_train.select_dtypes(\"object\").columns.to_list())\n",
    "df = model.fit_transform(x_train)\n",
    "df.head()"
   ]
  },
  {
   "cell_type": "code",
   "execution_count": 194,
   "metadata": {
    "id": "Tz_lSNabr-vo"
   },
   "outputs": [],
   "source": [
    "# \n",
    "# for validation purposes\n",
    "#\n",
    "#model = CategoricalTransformer(new_features=True)\n",
    "#df_cat = model.fit_transform(df)\n",
    "#df_cat.head()"
   ]
  },
  {
   "cell_type": "code",
   "execution_count": 195,
   "metadata": {
    "id": "Fd4sWYhGOpmp"
   },
   "outputs": [
    {
     "data": {
      "text/plain": [
       "room_type           4\n",
       "has_availability    2\n",
       "instant_bookable    2\n",
       "dtype: int64"
      ]
     },
     "execution_count": 195,
     "metadata": {},
     "output_type": "execute_result"
    }
   ],
   "source": [
    "# check the cardinality before and after transformation\n",
    "x_train.select_dtypes(\"object\").apply(pd.Series.nunique)"
   ]
  },
  {
   "cell_type": "code",
   "execution_count": null,
   "metadata": {
    "id": "pcQ0UgLJOiRL"
   },
   "outputs": [],
   "source": [
    "# check the cardinality before and after transformation\n",
    "#df_cat.apply(pd.Series.nunique)"
   ]
  },
  {
   "cell_type": "markdown",
   "metadata": {
    "id": "P8iPHaNO39WK"
   },
   "source": [
    "### 1.6.3 Numerical transformation"
   ]
  },
  {
   "cell_type": "code",
   "execution_count": 196,
   "metadata": {
    "id": "bAjVuX4T6RdO"
   },
   "outputs": [],
   "source": [
    "# transform numerical features\n",
    "class NumericalTransformer( BaseEstimator, TransformerMixin ):\n",
    "    # Class constructor method that takes a model parameter as its argument\n",
    "    # model 0: minmax\n",
    "    # model 1: standard\n",
    "    # model 2: without scaler\n",
    "    def __init__(self, model = 1):\n",
    "        self.model = model\n",
    "        self.colnames = None\n",
    "\n",
    "    #Return self nothing else to do here    \n",
    "    def fit( self, X, y = None ):\n",
    "        return self\n",
    "\n",
    "    # return columns names after transformation\n",
    "    def get_feature_names(self):\n",
    "        return self.colnames \n",
    "\n",
    "    #Transformer method we wrote for this transformer \n",
    "    def transform(self, X , y = None ):\n",
    "        df = X.copy()\n",
    "\n",
    "        # update columns name\n",
    "        self.colnames = df.columns.tolist()\n",
    "\n",
    "        # minmax\n",
    "        if self.model == 0: \n",
    "            scaler = MinMaxScaler()\n",
    "            # transform data\n",
    "            df = scaler.fit_transform(df)\n",
    "        elif self.model == 1:\n",
    "            scaler = StandardScaler()\n",
    "            # transform data\n",
    "            df = scaler.fit_transform(df)\n",
    "        else:\n",
    "            df = df.values\n",
    "\n",
    "        return df"
   ]
  },
  {
   "cell_type": "markdown",
   "metadata": {
    "id": "yQNWkR579Gqe"
   },
   "source": [
    "#### 1.6.3.1 Evaluate"
   ]
  },
  {
   "cell_type": "code",
   "execution_count": 197,
   "metadata": {
    "id": "rdC-TA3J9JLh"
   },
   "outputs": [
    {
     "data": {
      "text/html": [
       "<div>\n",
       "<style scoped>\n",
       "    .dataframe tbody tr th:only-of-type {\n",
       "        vertical-align: middle;\n",
       "    }\n",
       "\n",
       "    .dataframe tbody tr th {\n",
       "        vertical-align: top;\n",
       "    }\n",
       "\n",
       "    .dataframe thead th {\n",
       "        text-align: right;\n",
       "    }\n",
       "</style>\n",
       "<table border=\"1\" class=\"dataframe\">\n",
       "  <thead>\n",
       "    <tr style=\"text-align: right;\">\n",
       "      <th></th>\n",
       "      <th>accommodates</th>\n",
       "      <th>bathrooms_text</th>\n",
       "      <th>bedrooms</th>\n",
       "      <th>beds</th>\n",
       "      <th>minimum_nights</th>\n",
       "      <th>maximum_nights</th>\n",
       "      <th>minimum_minimum_nights</th>\n",
       "      <th>maximum_minimum_nights</th>\n",
       "      <th>minimum_maximum_nights</th>\n",
       "      <th>maximum_maximum_nights</th>\n",
       "      <th>...</th>\n",
       "      <th>review_scores_cleanliness</th>\n",
       "      <th>review_scores_checkin</th>\n",
       "      <th>review_scores_communication</th>\n",
       "      <th>review_scores_location</th>\n",
       "      <th>review_scores_value</th>\n",
       "      <th>calculated_host_listings_count</th>\n",
       "      <th>calculated_host_listings_count_entire_homes</th>\n",
       "      <th>calculated_host_listings_count_private_rooms</th>\n",
       "      <th>calculated_host_listings_count_shared_rooms</th>\n",
       "      <th>reviews_per_month</th>\n",
       "    </tr>\n",
       "  </thead>\n",
       "  <tbody>\n",
       "    <tr>\n",
       "      <th>5023</th>\n",
       "      <td>5</td>\n",
       "      <td>1.0</td>\n",
       "      <td>2.0</td>\n",
       "      <td>2.0</td>\n",
       "      <td>1</td>\n",
       "      <td>1125</td>\n",
       "      <td>1</td>\n",
       "      <td>1</td>\n",
       "      <td>1125</td>\n",
       "      <td>1125</td>\n",
       "      <td>...</td>\n",
       "      <td>4.73</td>\n",
       "      <td>4.67</td>\n",
       "      <td>4.47</td>\n",
       "      <td>4.60</td>\n",
       "      <td>4.33</td>\n",
       "      <td>1</td>\n",
       "      <td>1</td>\n",
       "      <td>0</td>\n",
       "      <td>0</td>\n",
       "      <td>0.26</td>\n",
       "    </tr>\n",
       "    <tr>\n",
       "      <th>7585</th>\n",
       "      <td>3</td>\n",
       "      <td>1.0</td>\n",
       "      <td>1.0</td>\n",
       "      <td>1.0</td>\n",
       "      <td>1</td>\n",
       "      <td>1125</td>\n",
       "      <td>1</td>\n",
       "      <td>20</td>\n",
       "      <td>1125</td>\n",
       "      <td>1125</td>\n",
       "      <td>...</td>\n",
       "      <td>3.50</td>\n",
       "      <td>4.50</td>\n",
       "      <td>4.75</td>\n",
       "      <td>4.50</td>\n",
       "      <td>3.75</td>\n",
       "      <td>1</td>\n",
       "      <td>1</td>\n",
       "      <td>0</td>\n",
       "      <td>0</td>\n",
       "      <td>0.10</td>\n",
       "    </tr>\n",
       "    <tr>\n",
       "      <th>1598</th>\n",
       "      <td>2</td>\n",
       "      <td>1.0</td>\n",
       "      <td>1.0</td>\n",
       "      <td>2.0</td>\n",
       "      <td>5</td>\n",
       "      <td>90</td>\n",
       "      <td>5</td>\n",
       "      <td>5</td>\n",
       "      <td>90</td>\n",
       "      <td>90</td>\n",
       "      <td>...</td>\n",
       "      <td>5.00</td>\n",
       "      <td>5.00</td>\n",
       "      <td>5.00</td>\n",
       "      <td>5.00</td>\n",
       "      <td>5.00</td>\n",
       "      <td>1</td>\n",
       "      <td>1</td>\n",
       "      <td>0</td>\n",
       "      <td>0</td>\n",
       "      <td>0.03</td>\n",
       "    </tr>\n",
       "    <tr>\n",
       "      <th>9162</th>\n",
       "      <td>2</td>\n",
       "      <td>1.5</td>\n",
       "      <td>1.0</td>\n",
       "      <td>1.0</td>\n",
       "      <td>1</td>\n",
       "      <td>1125</td>\n",
       "      <td>1</td>\n",
       "      <td>1</td>\n",
       "      <td>1125</td>\n",
       "      <td>1125</td>\n",
       "      <td>...</td>\n",
       "      <td>5.00</td>\n",
       "      <td>5.00</td>\n",
       "      <td>5.00</td>\n",
       "      <td>4.67</td>\n",
       "      <td>5.00</td>\n",
       "      <td>3</td>\n",
       "      <td>0</td>\n",
       "      <td>3</td>\n",
       "      <td>0</td>\n",
       "      <td>0.11</td>\n",
       "    </tr>\n",
       "    <tr>\n",
       "      <th>300</th>\n",
       "      <td>2</td>\n",
       "      <td>1.0</td>\n",
       "      <td>1.0</td>\n",
       "      <td>1.0</td>\n",
       "      <td>2</td>\n",
       "      <td>365</td>\n",
       "      <td>2</td>\n",
       "      <td>4</td>\n",
       "      <td>365</td>\n",
       "      <td>365</td>\n",
       "      <td>...</td>\n",
       "      <td>5.00</td>\n",
       "      <td>4.50</td>\n",
       "      <td>5.00</td>\n",
       "      <td>5.00</td>\n",
       "      <td>5.00</td>\n",
       "      <td>11</td>\n",
       "      <td>0</td>\n",
       "      <td>11</td>\n",
       "      <td>0</td>\n",
       "      <td>0.79</td>\n",
       "    </tr>\n",
       "  </tbody>\n",
       "</table>\n",
       "<p>5 rows × 31 columns</p>\n",
       "</div>"
      ],
      "text/plain": [
       "      accommodates  bathrooms_text  bedrooms  beds  minimum_nights  \\\n",
       "5023             5             1.0       2.0   2.0               1   \n",
       "7585             3             1.0       1.0   1.0               1   \n",
       "1598             2             1.0       1.0   2.0               5   \n",
       "9162             2             1.5       1.0   1.0               1   \n",
       "300              2             1.0       1.0   1.0               2   \n",
       "\n",
       "      maximum_nights  minimum_minimum_nights  maximum_minimum_nights  \\\n",
       "5023            1125                       1                       1   \n",
       "7585            1125                       1                      20   \n",
       "1598              90                       5                       5   \n",
       "9162            1125                       1                       1   \n",
       "300              365                       2                       4   \n",
       "\n",
       "      minimum_maximum_nights  maximum_maximum_nights  ...  \\\n",
       "5023                    1125                    1125  ...   \n",
       "7585                    1125                    1125  ...   \n",
       "1598                      90                      90  ...   \n",
       "9162                    1125                    1125  ...   \n",
       "300                      365                     365  ...   \n",
       "\n",
       "      review_scores_cleanliness  review_scores_checkin  \\\n",
       "5023                       4.73                   4.67   \n",
       "7585                       3.50                   4.50   \n",
       "1598                       5.00                   5.00   \n",
       "9162                       5.00                   5.00   \n",
       "300                        5.00                   4.50   \n",
       "\n",
       "      review_scores_communication  review_scores_location  \\\n",
       "5023                         4.47                    4.60   \n",
       "7585                         4.75                    4.50   \n",
       "1598                         5.00                    5.00   \n",
       "9162                         5.00                    4.67   \n",
       "300                          5.00                    5.00   \n",
       "\n",
       "      review_scores_value  calculated_host_listings_count  \\\n",
       "5023                 4.33                               1   \n",
       "7585                 3.75                               1   \n",
       "1598                 5.00                               1   \n",
       "9162                 5.00                               3   \n",
       "300                  5.00                              11   \n",
       "\n",
       "      calculated_host_listings_count_entire_homes  \\\n",
       "5023                                            1   \n",
       "7585                                            1   \n",
       "1598                                            1   \n",
       "9162                                            0   \n",
       "300                                             0   \n",
       "\n",
       "      calculated_host_listings_count_private_rooms  \\\n",
       "5023                                             0   \n",
       "7585                                             0   \n",
       "1598                                             0   \n",
       "9162                                             3   \n",
       "300                                             11   \n",
       "\n",
       "      calculated_host_listings_count_shared_rooms  reviews_per_month  \n",
       "5023                                            0               0.26  \n",
       "7585                                            0               0.10  \n",
       "1598                                            0               0.03  \n",
       "9162                                            0               0.11  \n",
       "300                                             0               0.79  \n",
       "\n",
       "[5 rows x 31 columns]"
      ]
     },
     "execution_count": 197,
     "metadata": {},
     "output_type": "execute_result"
    }
   ],
   "source": [
    "# \n",
    "# for validation purposes\n",
    "#\n",
    "model = FeatureSelector(x_train.select_dtypes(\"number\").columns.to_list())\n",
    "df = model.fit_transform(x_train)\n",
    "df.head()"
   ]
  },
  {
   "cell_type": "code",
   "execution_count": 198,
   "metadata": {},
   "outputs": [
    {
     "data": {
      "text/plain": [
       "(6182, 31)"
      ]
     },
     "execution_count": 198,
     "metadata": {},
     "output_type": "execute_result"
    }
   ],
   "source": [
    "df.shape"
   ]
  },
  {
   "cell_type": "code",
   "execution_count": 199,
   "metadata": {
    "id": "n_xkXWNz9reF"
   },
   "outputs": [
    {
     "data": {
      "text/plain": [
       "array([[ 0.39528674, -0.62842561,  0.41344412, ..., -0.44795054,\n",
       "        -0.12325651, -0.48213322],\n",
       "       [-0.47916759, -0.62842561, -0.6582169 , ..., -0.44795054,\n",
       "        -0.12325651, -0.66161873],\n",
       "       [-0.91639475, -0.62842561, -0.6582169 , ..., -0.44795054,\n",
       "        -0.12325651, -0.74014364],\n",
       "       ...,\n",
       "       [-0.47916759, -0.62842561, -0.6582169 , ...,  0.21805   ,\n",
       "        -0.12325651, -0.74014364],\n",
       "       [-0.91639475, -0.62842561, -0.6582169 , ..., -0.44795054,\n",
       "        -0.12325651,  1.59316797],\n",
       "       [-0.04194043, -0.62842561, -0.6582169 , ..., -0.44795054,\n",
       "        -0.12325651,  0.42651217]])"
      ]
     },
     "execution_count": 199,
     "metadata": {},
     "output_type": "execute_result"
    }
   ],
   "source": [
    "# \n",
    "# for validation purposes\n",
    "# \n",
    "# model 0: minmax\n",
    "# model 1: standard\n",
    "# model 2: without scaler\n",
    "#\n",
    "model = NumericalTransformer(model=1)\n",
    "df_cat = model.fit_transform(df)\n",
    "df_cat"
   ]
  },
  {
   "cell_type": "markdown",
   "metadata": {
    "id": "Ec_37RWJ-1_b"
   },
   "source": [
    "### 1.6.4 Pipeline union (cat + num)"
   ]
  },
  {
   "cell_type": "code",
   "execution_count": 200,
   "metadata": {
    "id": "JAKNrKbi--5I"
   },
   "outputs": [],
   "source": [
    "# Categrical features to pass down the categorical pipeline \n",
    "categorical_features = x_train.select_dtypes(\"object\").columns.to_list()\n",
    "\n",
    "# Numerical features to pass down the numerical pipeline \n",
    "numerical_features = x_train.select_dtypes(\"number\").columns.to_list()\n",
    "\n",
    "# Defining the steps in the categorical pipeline \n",
    "categorical_pipeline = Pipeline(steps = [('cat_selector', FeatureSelector(categorical_features)),\n",
    "                                         #('cat_transformer', CategoricalTransformer()),\n",
    "                                         #('cat_encoder','passthrough')\n",
    "                                         ('cat_encoder',OneHotEncoder(sparse=False,drop=\"first\"))\n",
    "                                         ]\n",
    "                                )\n",
    "\n",
    "# Defining the steps in the numerical pipeline     \n",
    "numerical_pipeline = Pipeline(steps = [('num_selector', FeatureSelector(numerical_features)),\n",
    "                                       ('num_transformer', NumericalTransformer())\n",
    "                                       ]\n",
    "                              )\n",
    "\n",
    "# Combining numerical and categorical piepline into one full big pipeline horizontally \n",
    "# using FeatureUnion\n",
    "full_pipeline_preprocessing = FeatureUnion(transformer_list = [('cat_pipeline', categorical_pipeline),\n",
    "                                                               ('num_pipeline', numerical_pipeline)\n",
    "                                                               ]\n",
    "                                           )"
   ]
  },
  {
   "cell_type": "markdown",
   "metadata": {
    "id": "AIq1_UaJ_7YV"
   },
   "source": [
    "#### 1.6.4.1 Evaluate"
   ]
  },
  {
   "cell_type": "code",
   "execution_count": 201,
   "metadata": {},
   "outputs": [
    {
     "data": {
      "text/html": [
       "<style>#sk-ec4bc7b7-1e54-414f-a022-00baca62f2fb {color: black;background-color: white;}#sk-ec4bc7b7-1e54-414f-a022-00baca62f2fb pre{padding: 0;}#sk-ec4bc7b7-1e54-414f-a022-00baca62f2fb div.sk-toggleable {background-color: white;}#sk-ec4bc7b7-1e54-414f-a022-00baca62f2fb label.sk-toggleable__label {cursor: pointer;display: block;width: 100%;margin-bottom: 0;padding: 0.3em;box-sizing: border-box;text-align: center;}#sk-ec4bc7b7-1e54-414f-a022-00baca62f2fb label.sk-toggleable__label-arrow:before {content: \"▸\";float: left;margin-right: 0.25em;color: #696969;}#sk-ec4bc7b7-1e54-414f-a022-00baca62f2fb label.sk-toggleable__label-arrow:hover:before {color: black;}#sk-ec4bc7b7-1e54-414f-a022-00baca62f2fb div.sk-estimator:hover label.sk-toggleable__label-arrow:before {color: black;}#sk-ec4bc7b7-1e54-414f-a022-00baca62f2fb div.sk-toggleable__content {max-height: 0;max-width: 0;overflow: hidden;text-align: left;background-color: #f0f8ff;}#sk-ec4bc7b7-1e54-414f-a022-00baca62f2fb div.sk-toggleable__content pre {margin: 0.2em;color: black;border-radius: 0.25em;background-color: #f0f8ff;}#sk-ec4bc7b7-1e54-414f-a022-00baca62f2fb input.sk-toggleable__control:checked~div.sk-toggleable__content {max-height: 200px;max-width: 100%;overflow: auto;}#sk-ec4bc7b7-1e54-414f-a022-00baca62f2fb input.sk-toggleable__control:checked~label.sk-toggleable__label-arrow:before {content: \"▾\";}#sk-ec4bc7b7-1e54-414f-a022-00baca62f2fb div.sk-estimator input.sk-toggleable__control:checked~label.sk-toggleable__label {background-color: #d4ebff;}#sk-ec4bc7b7-1e54-414f-a022-00baca62f2fb div.sk-label input.sk-toggleable__control:checked~label.sk-toggleable__label {background-color: #d4ebff;}#sk-ec4bc7b7-1e54-414f-a022-00baca62f2fb input.sk-hidden--visually {border: 0;clip: rect(1px 1px 1px 1px);clip: rect(1px, 1px, 1px, 1px);height: 1px;margin: -1px;overflow: hidden;padding: 0;position: absolute;width: 1px;}#sk-ec4bc7b7-1e54-414f-a022-00baca62f2fb div.sk-estimator {font-family: monospace;background-color: #f0f8ff;border: 1px dotted black;border-radius: 0.25em;box-sizing: border-box;margin-bottom: 0.5em;}#sk-ec4bc7b7-1e54-414f-a022-00baca62f2fb div.sk-estimator:hover {background-color: #d4ebff;}#sk-ec4bc7b7-1e54-414f-a022-00baca62f2fb div.sk-parallel-item::after {content: \"\";width: 100%;border-bottom: 1px solid gray;flex-grow: 1;}#sk-ec4bc7b7-1e54-414f-a022-00baca62f2fb div.sk-label:hover label.sk-toggleable__label {background-color: #d4ebff;}#sk-ec4bc7b7-1e54-414f-a022-00baca62f2fb div.sk-serial::before {content: \"\";position: absolute;border-left: 1px solid gray;box-sizing: border-box;top: 2em;bottom: 0;left: 50%;}#sk-ec4bc7b7-1e54-414f-a022-00baca62f2fb div.sk-serial {display: flex;flex-direction: column;align-items: center;background-color: white;padding-right: 0.2em;padding-left: 0.2em;}#sk-ec4bc7b7-1e54-414f-a022-00baca62f2fb div.sk-item {z-index: 1;}#sk-ec4bc7b7-1e54-414f-a022-00baca62f2fb div.sk-parallel {display: flex;align-items: stretch;justify-content: center;background-color: white;}#sk-ec4bc7b7-1e54-414f-a022-00baca62f2fb div.sk-parallel::before {content: \"\";position: absolute;border-left: 1px solid gray;box-sizing: border-box;top: 2em;bottom: 0;left: 50%;}#sk-ec4bc7b7-1e54-414f-a022-00baca62f2fb div.sk-parallel-item {display: flex;flex-direction: column;position: relative;background-color: white;}#sk-ec4bc7b7-1e54-414f-a022-00baca62f2fb div.sk-parallel-item:first-child::after {align-self: flex-end;width: 50%;}#sk-ec4bc7b7-1e54-414f-a022-00baca62f2fb div.sk-parallel-item:last-child::after {align-self: flex-start;width: 50%;}#sk-ec4bc7b7-1e54-414f-a022-00baca62f2fb div.sk-parallel-item:only-child::after {width: 0;}#sk-ec4bc7b7-1e54-414f-a022-00baca62f2fb div.sk-dashed-wrapped {border: 1px dashed gray;margin: 0 0.4em 0.5em 0.4em;box-sizing: border-box;padding-bottom: 0.4em;background-color: white;position: relative;}#sk-ec4bc7b7-1e54-414f-a022-00baca62f2fb div.sk-label label {font-family: monospace;font-weight: bold;background-color: white;display: inline-block;line-height: 1.2em;}#sk-ec4bc7b7-1e54-414f-a022-00baca62f2fb div.sk-label-container {position: relative;z-index: 2;text-align: center;}#sk-ec4bc7b7-1e54-414f-a022-00baca62f2fb div.sk-container {/* jupyter's `normalize.less` sets `[hidden] { display: none; }` but bootstrap.min.css set `[hidden] { display: none !important; }` so we also need the `!important` here to be able to override the default hidden behavior on the sphinx rendered scikit-learn.org. See: https://github.com/scikit-learn/scikit-learn/issues/21755 */display: inline-block !important;position: relative;}#sk-ec4bc7b7-1e54-414f-a022-00baca62f2fb div.sk-text-repr-fallback {display: none;}</style><div id=\"sk-ec4bc7b7-1e54-414f-a022-00baca62f2fb\" class=\"sk-top-container\"><div class=\"sk-text-repr-fallback\"><pre>FeatureUnion(transformer_list=[(&#x27;cat_pipeline&#x27;,\n",
       "                                Pipeline(steps=[(&#x27;cat_selector&#x27;,\n",
       "                                                 FeatureSelector(feature_names=[&#x27;room_type&#x27;,\n",
       "                                                                                &#x27;has_availability&#x27;,\n",
       "                                                                                &#x27;instant_bookable&#x27;])),\n",
       "                                                (&#x27;cat_encoder&#x27;,\n",
       "                                                 OneHotEncoder(drop=&#x27;first&#x27;,\n",
       "                                                               sparse=False))])),\n",
       "                               (&#x27;num_pipeline&#x27;,\n",
       "                                Pipeline(steps=[(&#x27;num_selector&#x27;,\n",
       "                                                 FeatureSelector(feature_names=[&#x27;accommodates&#x27;,\n",
       "                                                                                &#x27;bathrooms_text&#x27;,\n",
       "                                                                                &#x27;bedrooms&#x27;,\n",
       "                                                                                &#x27;beds...\n",
       "                                                                                &#x27;review_scores_cleanliness&#x27;,\n",
       "                                                                                &#x27;review_scores_checkin&#x27;,\n",
       "                                                                                &#x27;review_scores_communication&#x27;,\n",
       "                                                                                &#x27;review_scores_location&#x27;,\n",
       "                                                                                &#x27;review_scores_value&#x27;,\n",
       "                                                                                &#x27;calculated_host_listings_count&#x27;,\n",
       "                                                                                &#x27;calculated_host_listings_count_entire_homes&#x27;,\n",
       "                                                                                &#x27;calculated_host_listings_count_private_rooms&#x27;,\n",
       "                                                                                &#x27;calculated_host_listings_count_shared_rooms&#x27;, ...])),\n",
       "                                                (&#x27;num_transformer&#x27;,\n",
       "                                                 NumericalTransformer())]))])</pre><b>Please rerun this cell to show the HTML repr or trust the notebook.</b></div><div class=\"sk-container\" hidden><div class=\"sk-item sk-dashed-wrapped\"><div class=\"sk-label-container\"><div class=\"sk-label sk-toggleable\"><input class=\"sk-toggleable__control sk-hidden--visually\" id=\"6f32d225-88a2-40b5-990e-ca0dc3767e20\" type=\"checkbox\" ><label for=\"6f32d225-88a2-40b5-990e-ca0dc3767e20\" class=\"sk-toggleable__label sk-toggleable__label-arrow\">FeatureUnion</label><div class=\"sk-toggleable__content\"><pre>FeatureUnion(transformer_list=[(&#x27;cat_pipeline&#x27;,\n",
       "                                Pipeline(steps=[(&#x27;cat_selector&#x27;,\n",
       "                                                 FeatureSelector(feature_names=[&#x27;room_type&#x27;,\n",
       "                                                                                &#x27;has_availability&#x27;,\n",
       "                                                                                &#x27;instant_bookable&#x27;])),\n",
       "                                                (&#x27;cat_encoder&#x27;,\n",
       "                                                 OneHotEncoder(drop=&#x27;first&#x27;,\n",
       "                                                               sparse=False))])),\n",
       "                               (&#x27;num_pipeline&#x27;,\n",
       "                                Pipeline(steps=[(&#x27;num_selector&#x27;,\n",
       "                                                 FeatureSelector(feature_names=[&#x27;accommodates&#x27;,\n",
       "                                                                                &#x27;bathrooms_text&#x27;,\n",
       "                                                                                &#x27;bedrooms&#x27;,\n",
       "                                                                                &#x27;beds...\n",
       "                                                                                &#x27;review_scores_cleanliness&#x27;,\n",
       "                                                                                &#x27;review_scores_checkin&#x27;,\n",
       "                                                                                &#x27;review_scores_communication&#x27;,\n",
       "                                                                                &#x27;review_scores_location&#x27;,\n",
       "                                                                                &#x27;review_scores_value&#x27;,\n",
       "                                                                                &#x27;calculated_host_listings_count&#x27;,\n",
       "                                                                                &#x27;calculated_host_listings_count_entire_homes&#x27;,\n",
       "                                                                                &#x27;calculated_host_listings_count_private_rooms&#x27;,\n",
       "                                                                                &#x27;calculated_host_listings_count_shared_rooms&#x27;, ...])),\n",
       "                                                (&#x27;num_transformer&#x27;,\n",
       "                                                 NumericalTransformer())]))])</pre></div></div></div><div class=\"sk-parallel\"><div class=\"sk-parallel-item\"><div class=\"sk-item\"><div class=\"sk-label-container\"><div class=\"sk-label sk-toggleable\"><label>cat_pipeline</label></div></div><div class=\"sk-serial\"><div class=\"sk-item\"><div class=\"sk-serial\"><div class=\"sk-item\"><div class=\"sk-estimator sk-toggleable\"><input class=\"sk-toggleable__control sk-hidden--visually\" id=\"11d00777-6171-464e-8a70-c601cca0998c\" type=\"checkbox\" ><label for=\"11d00777-6171-464e-8a70-c601cca0998c\" class=\"sk-toggleable__label sk-toggleable__label-arrow\">FeatureSelector</label><div class=\"sk-toggleable__content\"><pre>FeatureSelector(feature_names=[&#x27;room_type&#x27;, &#x27;has_availability&#x27;,\n",
       "                               &#x27;instant_bookable&#x27;])</pre></div></div></div><div class=\"sk-item\"><div class=\"sk-estimator sk-toggleable\"><input class=\"sk-toggleable__control sk-hidden--visually\" id=\"3d469057-ae33-4c7c-b794-062ad83f7484\" type=\"checkbox\" ><label for=\"3d469057-ae33-4c7c-b794-062ad83f7484\" class=\"sk-toggleable__label sk-toggleable__label-arrow\">OneHotEncoder</label><div class=\"sk-toggleable__content\"><pre>OneHotEncoder(drop=&#x27;first&#x27;, sparse=False)</pre></div></div></div></div></div></div></div></div><div class=\"sk-parallel-item\"><div class=\"sk-item\"><div class=\"sk-label-container\"><div class=\"sk-label sk-toggleable\"><label>num_pipeline</label></div></div><div class=\"sk-serial\"><div class=\"sk-item\"><div class=\"sk-serial\"><div class=\"sk-item\"><div class=\"sk-estimator sk-toggleable\"><input class=\"sk-toggleable__control sk-hidden--visually\" id=\"9f305058-570c-4419-8753-71f9e1084c29\" type=\"checkbox\" ><label for=\"9f305058-570c-4419-8753-71f9e1084c29\" class=\"sk-toggleable__label sk-toggleable__label-arrow\">FeatureSelector</label><div class=\"sk-toggleable__content\"><pre>FeatureSelector(feature_names=[&#x27;accommodates&#x27;, &#x27;bathrooms_text&#x27;, &#x27;bedrooms&#x27;,\n",
       "                               &#x27;beds&#x27;, &#x27;minimum_nights&#x27;, &#x27;maximum_nights&#x27;,\n",
       "                               &#x27;minimum_minimum_nights&#x27;,\n",
       "                               &#x27;maximum_minimum_nights&#x27;,\n",
       "                               &#x27;minimum_maximum_nights&#x27;,\n",
       "                               &#x27;maximum_maximum_nights&#x27;,\n",
       "                               &#x27;minimum_nights_avg_ntm&#x27;,\n",
       "                               &#x27;maximum_nights_avg_ntm&#x27;, &#x27;availability_30&#x27;,\n",
       "                               &#x27;availability_60&#x27;, &#x27;availability_90&#x27;,\n",
       "                               &#x27;availability_365&#x27;, &#x27;number_of_r...\n",
       "                               &#x27;number_of_reviews_l30d&#x27;, &#x27;review_scores_rating&#x27;,\n",
       "                               &#x27;review_scores_accuracy&#x27;,\n",
       "                               &#x27;review_scores_cleanliness&#x27;,\n",
       "                               &#x27;review_scores_checkin&#x27;,\n",
       "                               &#x27;review_scores_communication&#x27;,\n",
       "                               &#x27;review_scores_location&#x27;, &#x27;review_scores_value&#x27;,\n",
       "                               &#x27;calculated_host_listings_count&#x27;,\n",
       "                               &#x27;calculated_host_listings_count_entire_homes&#x27;,\n",
       "                               &#x27;calculated_host_listings_count_private_rooms&#x27;,\n",
       "                               &#x27;calculated_host_listings_count_shared_rooms&#x27;, ...])</pre></div></div></div><div class=\"sk-item\"><div class=\"sk-estimator sk-toggleable\"><input class=\"sk-toggleable__control sk-hidden--visually\" id=\"f44eaa1b-229b-43dc-b00c-6007028d2d3b\" type=\"checkbox\" ><label for=\"f44eaa1b-229b-43dc-b00c-6007028d2d3b\" class=\"sk-toggleable__label sk-toggleable__label-arrow\">NumericalTransformer</label><div class=\"sk-toggleable__content\"><pre>NumericalTransformer()</pre></div></div></div></div></div></div></div></div></div></div></div></div>"
      ],
      "text/plain": [
       "FeatureUnion(transformer_list=[('cat_pipeline',\n",
       "                                Pipeline(steps=[('cat_selector',\n",
       "                                                 FeatureSelector(feature_names=['room_type',\n",
       "                                                                                'has_availability',\n",
       "                                                                                'instant_bookable'])),\n",
       "                                                ('cat_encoder',\n",
       "                                                 OneHotEncoder(drop='first',\n",
       "                                                               sparse=False))])),\n",
       "                               ('num_pipeline',\n",
       "                                Pipeline(steps=[('num_selector',\n",
       "                                                 FeatureSelector(feature_names=['accommodates',\n",
       "                                                                                'bathrooms_text',\n",
       "                                                                                'bedrooms',\n",
       "                                                                                'beds...\n",
       "                                                                                'review_scores_cleanliness',\n",
       "                                                                                'review_scores_checkin',\n",
       "                                                                                'review_scores_communication',\n",
       "                                                                                'review_scores_location',\n",
       "                                                                                'review_scores_value',\n",
       "                                                                                'calculated_host_listings_count',\n",
       "                                                                                'calculated_host_listings_count_entire_homes',\n",
       "                                                                                'calculated_host_listings_count_private_rooms',\n",
       "                                                                                'calculated_host_listings_count_shared_rooms', ...])),\n",
       "                                                ('num_transformer',\n",
       "                                                 NumericalTransformer())]))])"
      ]
     },
     "execution_count": 201,
     "metadata": {},
     "output_type": "execute_result"
    }
   ],
   "source": [
    "full_pipeline_preprocessing"
   ]
  },
  {
   "cell_type": "code",
   "execution_count": 202,
   "metadata": {
    "id": "UT4lDS75_99D"
   },
   "outputs": [
    {
     "data": {
      "text/html": [
       "<div>\n",
       "<style scoped>\n",
       "    .dataframe tbody tr th:only-of-type {\n",
       "        vertical-align: middle;\n",
       "    }\n",
       "\n",
       "    .dataframe tbody tr th {\n",
       "        vertical-align: top;\n",
       "    }\n",
       "\n",
       "    .dataframe thead th {\n",
       "        text-align: right;\n",
       "    }\n",
       "</style>\n",
       "<table border=\"1\" class=\"dataframe\">\n",
       "  <thead>\n",
       "    <tr style=\"text-align: right;\">\n",
       "      <th></th>\n",
       "      <th>room_type_Hotel room</th>\n",
       "      <th>room_type_Private room</th>\n",
       "      <th>room_type_Shared room</th>\n",
       "      <th>has_availability_t</th>\n",
       "      <th>instant_bookable_t</th>\n",
       "      <th>accommodates</th>\n",
       "      <th>bathrooms_text</th>\n",
       "      <th>bedrooms</th>\n",
       "      <th>beds</th>\n",
       "      <th>minimum_nights</th>\n",
       "      <th>...</th>\n",
       "      <th>review_scores_cleanliness</th>\n",
       "      <th>review_scores_checkin</th>\n",
       "      <th>review_scores_communication</th>\n",
       "      <th>review_scores_location</th>\n",
       "      <th>review_scores_value</th>\n",
       "      <th>calculated_host_listings_count</th>\n",
       "      <th>calculated_host_listings_count_entire_homes</th>\n",
       "      <th>calculated_host_listings_count_private_rooms</th>\n",
       "      <th>calculated_host_listings_count_shared_rooms</th>\n",
       "      <th>reviews_per_month</th>\n",
       "    </tr>\n",
       "  </thead>\n",
       "  <tbody>\n",
       "    <tr>\n",
       "      <th>0</th>\n",
       "      <td>0.0</td>\n",
       "      <td>0.0</td>\n",
       "      <td>0.0</td>\n",
       "      <td>1.0</td>\n",
       "      <td>0.0</td>\n",
       "      <td>0.395287</td>\n",
       "      <td>-0.628426</td>\n",
       "      <td>0.413444</td>\n",
       "      <td>-0.301099</td>\n",
       "      <td>-0.714658</td>\n",
       "      <td>...</td>\n",
       "      <td>0.082544</td>\n",
       "      <td>-0.579212</td>\n",
       "      <td>-0.976726</td>\n",
       "      <td>-0.717192</td>\n",
       "      <td>-0.691001</td>\n",
       "      <td>-0.306545</td>\n",
       "      <td>-0.262293</td>\n",
       "      <td>-0.447951</td>\n",
       "      <td>-0.123257</td>\n",
       "      <td>-0.482133</td>\n",
       "    </tr>\n",
       "    <tr>\n",
       "      <th>1</th>\n",
       "      <td>0.0</td>\n",
       "      <td>0.0</td>\n",
       "      <td>0.0</td>\n",
       "      <td>1.0</td>\n",
       "      <td>1.0</td>\n",
       "      <td>-0.479168</td>\n",
       "      <td>-0.628426</td>\n",
       "      <td>-0.658217</td>\n",
       "      <td>-0.825141</td>\n",
       "      <td>-0.714658</td>\n",
       "      <td>...</td>\n",
       "      <td>-2.232163</td>\n",
       "      <td>-1.051264</td>\n",
       "      <td>-0.268834</td>\n",
       "      <td>-0.993108</td>\n",
       "      <td>-1.906363</td>\n",
       "      <td>-0.306545</td>\n",
       "      <td>-0.262293</td>\n",
       "      <td>-0.447951</td>\n",
       "      <td>-0.123257</td>\n",
       "      <td>-0.661619</td>\n",
       "    </tr>\n",
       "    <tr>\n",
       "      <th>2</th>\n",
       "      <td>0.0</td>\n",
       "      <td>0.0</td>\n",
       "      <td>0.0</td>\n",
       "      <td>1.0</td>\n",
       "      <td>0.0</td>\n",
       "      <td>-0.916395</td>\n",
       "      <td>-0.628426</td>\n",
       "      <td>-0.658217</td>\n",
       "      <td>-0.301099</td>\n",
       "      <td>0.782721</td>\n",
       "      <td>...</td>\n",
       "      <td>0.590651</td>\n",
       "      <td>0.337126</td>\n",
       "      <td>0.363213</td>\n",
       "      <td>0.386469</td>\n",
       "      <td>0.712952</td>\n",
       "      <td>-0.306545</td>\n",
       "      <td>-0.262293</td>\n",
       "      <td>-0.447951</td>\n",
       "      <td>-0.123257</td>\n",
       "      <td>-0.740144</td>\n",
       "    </tr>\n",
       "    <tr>\n",
       "      <th>3</th>\n",
       "      <td>0.0</td>\n",
       "      <td>1.0</td>\n",
       "      <td>0.0</td>\n",
       "      <td>1.0</td>\n",
       "      <td>0.0</td>\n",
       "      <td>-0.916395</td>\n",
       "      <td>-0.093017</td>\n",
       "      <td>-0.658217</td>\n",
       "      <td>-0.825141</td>\n",
       "      <td>-0.714658</td>\n",
       "      <td>...</td>\n",
       "      <td>0.590651</td>\n",
       "      <td>0.337126</td>\n",
       "      <td>0.363213</td>\n",
       "      <td>-0.524052</td>\n",
       "      <td>0.712952</td>\n",
       "      <td>-0.177599</td>\n",
       "      <td>-0.327909</td>\n",
       "      <td>1.550051</td>\n",
       "      <td>-0.123257</td>\n",
       "      <td>-0.650401</td>\n",
       "    </tr>\n",
       "    <tr>\n",
       "      <th>4</th>\n",
       "      <td>0.0</td>\n",
       "      <td>1.0</td>\n",
       "      <td>0.0</td>\n",
       "      <td>1.0</td>\n",
       "      <td>0.0</td>\n",
       "      <td>-0.916395</td>\n",
       "      <td>-0.628426</td>\n",
       "      <td>-0.658217</td>\n",
       "      <td>-0.825141</td>\n",
       "      <td>-0.340313</td>\n",
       "      <td>...</td>\n",
       "      <td>0.590651</td>\n",
       "      <td>-1.051264</td>\n",
       "      <td>0.363213</td>\n",
       "      <td>0.386469</td>\n",
       "      <td>0.712952</td>\n",
       "      <td>0.338188</td>\n",
       "      <td>-0.327909</td>\n",
       "      <td>6.878055</td>\n",
       "      <td>-0.123257</td>\n",
       "      <td>0.112413</td>\n",
       "    </tr>\n",
       "  </tbody>\n",
       "</table>\n",
       "<p>5 rows × 36 columns</p>\n",
       "</div>"
      ],
      "text/plain": [
       "   room_type_Hotel room  room_type_Private room  room_type_Shared room  \\\n",
       "0                   0.0                     0.0                    0.0   \n",
       "1                   0.0                     0.0                    0.0   \n",
       "2                   0.0                     0.0                    0.0   \n",
       "3                   0.0                     1.0                    0.0   \n",
       "4                   0.0                     1.0                    0.0   \n",
       "\n",
       "   has_availability_t  instant_bookable_t  accommodates  bathrooms_text  \\\n",
       "0                 1.0                 0.0      0.395287       -0.628426   \n",
       "1                 1.0                 1.0     -0.479168       -0.628426   \n",
       "2                 1.0                 0.0     -0.916395       -0.628426   \n",
       "3                 1.0                 0.0     -0.916395       -0.093017   \n",
       "4                 1.0                 0.0     -0.916395       -0.628426   \n",
       "\n",
       "   bedrooms      beds  minimum_nights  ...  review_scores_cleanliness  \\\n",
       "0  0.413444 -0.301099       -0.714658  ...                   0.082544   \n",
       "1 -0.658217 -0.825141       -0.714658  ...                  -2.232163   \n",
       "2 -0.658217 -0.301099        0.782721  ...                   0.590651   \n",
       "3 -0.658217 -0.825141       -0.714658  ...                   0.590651   \n",
       "4 -0.658217 -0.825141       -0.340313  ...                   0.590651   \n",
       "\n",
       "   review_scores_checkin  review_scores_communication  review_scores_location  \\\n",
       "0              -0.579212                    -0.976726               -0.717192   \n",
       "1              -1.051264                    -0.268834               -0.993108   \n",
       "2               0.337126                     0.363213                0.386469   \n",
       "3               0.337126                     0.363213               -0.524052   \n",
       "4              -1.051264                     0.363213                0.386469   \n",
       "\n",
       "   review_scores_value  calculated_host_listings_count  \\\n",
       "0            -0.691001                       -0.306545   \n",
       "1            -1.906363                       -0.306545   \n",
       "2             0.712952                       -0.306545   \n",
       "3             0.712952                       -0.177599   \n",
       "4             0.712952                        0.338188   \n",
       "\n",
       "   calculated_host_listings_count_entire_homes  \\\n",
       "0                                    -0.262293   \n",
       "1                                    -0.262293   \n",
       "2                                    -0.262293   \n",
       "3                                    -0.327909   \n",
       "4                                    -0.327909   \n",
       "\n",
       "   calculated_host_listings_count_private_rooms  \\\n",
       "0                                     -0.447951   \n",
       "1                                     -0.447951   \n",
       "2                                     -0.447951   \n",
       "3                                      1.550051   \n",
       "4                                      6.878055   \n",
       "\n",
       "   calculated_host_listings_count_shared_rooms  reviews_per_month  \n",
       "0                                    -0.123257          -0.482133  \n",
       "1                                    -0.123257          -0.661619  \n",
       "2                                    -0.123257          -0.740144  \n",
       "3                                    -0.123257          -0.650401  \n",
       "4                                    -0.123257           0.112413  \n",
       "\n",
       "[5 rows x 36 columns]"
      ]
     },
     "execution_count": 202,
     "metadata": {},
     "output_type": "execute_result"
    }
   ],
   "source": [
    "# \n",
    "# for validate purposes\n",
    "#\n",
    "new_data = full_pipeline_preprocessing.fit_transform(x_train)\n",
    "catnames = full_pipeline_preprocessing.get_params()[\"cat_pipeline\"][1].get_feature_names_out().tolist()\n",
    "numnames = full_pipeline_preprocessing.get_params()[\"num_pipeline\"][1].get_feature_names()\n",
    "df = pd.DataFrame(new_data,columns = catnames + numnames)\n",
    "df.head()"
   ]
  },
  {
   "cell_type": "code",
   "execution_count": 203,
   "metadata": {
    "id": "Caaygz8Oy8kw"
   },
   "outputs": [
    {
     "data": {
      "text/plain": [
       "(6182, 36)"
      ]
     },
     "execution_count": 203,
     "metadata": {},
     "output_type": "execute_result"
    }
   ],
   "source": [
    "df.shape"
   ]
  },
  {
   "cell_type": "markdown",
   "metadata": {
    "id": "3EBxTF3SAlm7"
   },
   "source": [
    "## 1.7 Modeling and Training"
   ]
  },
  {
   "cell_type": "code",
   "execution_count": 235,
   "metadata": {
    "id": "Qtvg28TjMEKI"
   },
   "outputs": [],
   "source": [
    "# The full pipeline \n",
    "pipe = Pipeline(steps = [('full_pipeline', full_pipeline_preprocessing),\n",
    "                         (\"regressor\",\n",
    "                          DecisionTreeRegressor(\n",
    "                              criterion=\"squared_error\",\n",
    "                              splitter=\"best\",\n",
    "                              max_depth=10,\n",
    "                              random_state=42\n",
    "                          ))])\n",
    "\n",
    "# training \n",
    "pipe.fit(x_train,y_train)\n",
    "\n",
    "# final model\n",
    "predict = pipe.predict(x_val)"
   ]
  },
  {
   "cell_type": "code",
   "execution_count": 238,
   "metadata": {},
   "outputs": [
    {
     "name": "stdout",
     "output_type": "stream",
     "text": [
      "Mean Absolute Error 571.2469991357829\n",
      "Root Mean Squared Error 3235.7584540521857\n",
      "R2 Score -1.1886321975223675\n"
     ]
    }
   ],
   "source": [
    "from sklearn.metrics import mean_absolute_error\n",
    "from sklearn.metrics import mean_squared_error\n",
    "from sklearn.metrics import r2_score\n",
    "\n",
    "print(\"Mean Absolute Error\", mean_absolute_error(y_val, predict))\n",
    "print(\"Root Mean Squared Error\", mean_squared_error(y_val, predict, squared=False))\n",
    "print(\"R2 Score\", r2_score(y_val, predict))"
   ]
  },
  {
   "cell_type": "code",
   "execution_count": 220,
   "metadata": {},
   "outputs": [
    {
     "data": {
      "text/plain": [
       "10"
      ]
     },
     "execution_count": 220,
     "metadata": {},
     "output_type": "execute_result"
    }
   ],
   "source": [
    "pipe['regressor'].get_depth()"
   ]
  },
  {
   "cell_type": "code",
   "execution_count": 221,
   "metadata": {
    "id": "DNwbgo9jOVLu"
   },
   "outputs": [
    {
     "data": {
      "text/plain": [
       "['room_type_Hotel room',\n",
       " 'room_type_Private room',\n",
       " 'room_type_Shared room',\n",
       " 'has_availability_t',\n",
       " 'instant_bookable_t']"
      ]
     },
     "execution_count": 221,
     "metadata": {},
     "output_type": "execute_result"
    }
   ],
   "source": [
    "# full pipeline\n",
    "features_full = pipe.named_steps['full_pipeline']\n",
    "\n",
    "# get columns names from categorial columns\n",
    "features_cat = features_full.get_params()[\"cat_pipeline\"]\n",
    "features_cat = features_cat[1].get_feature_names_out().tolist()\n",
    "features_cat"
   ]
  },
  {
   "cell_type": "code",
   "execution_count": 222,
   "metadata": {
    "id": "1z9m72SjOpSP"
   },
   "outputs": [
    {
     "data": {
      "text/plain": [
       "['accommodates',\n",
       " 'bathrooms_text',\n",
       " 'bedrooms',\n",
       " 'beds',\n",
       " 'minimum_nights',\n",
       " 'maximum_nights',\n",
       " 'minimum_minimum_nights',\n",
       " 'maximum_minimum_nights',\n",
       " 'minimum_maximum_nights',\n",
       " 'maximum_maximum_nights',\n",
       " 'minimum_nights_avg_ntm',\n",
       " 'maximum_nights_avg_ntm',\n",
       " 'availability_30',\n",
       " 'availability_60',\n",
       " 'availability_90',\n",
       " 'availability_365',\n",
       " 'number_of_reviews',\n",
       " 'number_of_reviews_ltm',\n",
       " 'number_of_reviews_l30d',\n",
       " 'review_scores_rating',\n",
       " 'review_scores_accuracy',\n",
       " 'review_scores_cleanliness',\n",
       " 'review_scores_checkin',\n",
       " 'review_scores_communication',\n",
       " 'review_scores_location',\n",
       " 'review_scores_value',\n",
       " 'calculated_host_listings_count',\n",
       " 'calculated_host_listings_count_entire_homes',\n",
       " 'calculated_host_listings_count_private_rooms',\n",
       " 'calculated_host_listings_count_shared_rooms',\n",
       " 'reviews_per_month']"
      ]
     },
     "execution_count": 222,
     "metadata": {},
     "output_type": "execute_result"
    }
   ],
   "source": [
    "# get columns names from numerical columns\n",
    "features_num = features_full.get_params()[\"num_pipeline\"][1].get_feature_names()\n",
    "features_num"
   ]
  },
  {
   "cell_type": "code",
   "execution_count": 224,
   "metadata": {
    "id": "9bkdiltrNrrv"
   },
   "outputs": [
    {
     "data": {
      "image/png": "[encoded data removed]",
      "text/plain": [
       "<Figure size 1080x720 with 1 Axes>"
      ]
     },
     "metadata": {
      "needs_background": "light"
     },
     "output_type": "display_data"
    }
   ],
   "source": [
    "'''from sklearn.tree import plot_tree # to draw a classification tree\n",
    "fig, ax = plt.subplots(1,1, figsize=(15, 10))\n",
    "plot_tree(pipe[\"regressor\"], \n",
    "          filled=True, \n",
    "          rounded=True, \n",
    "          feature_names=features_cat+features_num, ax=ax)\n",
    "plt.show()'''"
   ]
  }
 ],
 "metadata": {
  "colab": {
   "collapsed_sections": [],
   "name": "Week 08 - Decision Trees Example 02.ipynb",
   "provenance": [],
   "toc_visible": true
  },
  "kernelspec": {
   "display_name": "Python 3 (ipykernel)",
   "language": "python",
   "name": "python3"
  },
  "language_info": {
   "codemirror_mode": {
    "name": "ipython",
    "version": 3
   },
   "file_extension": ".py",
   "mimetype": "text/x-python",
   "name": "python",
   "nbconvert_exporter": "python",
   "pygments_lexer": "ipython3",
   "version": "3.8.13"
  }
 },
 "nbformat": 4,
 "nbformat_minor": 4
}
