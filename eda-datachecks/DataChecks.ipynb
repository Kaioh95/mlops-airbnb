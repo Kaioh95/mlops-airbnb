{
 "cells": [
  {
   "cell_type": "markdown",
   "metadata": {
    "id": "0I4pgzLVtBTP",
    "tags": []
   },
   "source": [
    "# 2.0 Airbnb Regression Problem (Part II)\n",
    "\n"
   ]
  },
  {
   "cell_type": "markdown",
   "metadata": {
    "id": "Dh34gim6KPtT",
    "tags": []
   },
   "source": [
    "## 2.1 Data Checks"
   ]
  },
  {
   "cell_type": "markdown",
   "metadata": {
    "id": "iE8OJoDZ5AFK"
   },
   "source": [
    "In this section, we are going to perform some data checking on our data in order to prevent bad data coming into our program. We are going to use several deterministic tests and also non-deterministics.\n",
    "\n",
    "The Part I of this notebook is available on this repository under \"eda-datasegregation\" folder.\n",
    "\n",
    "Let's take the following steps:\n",
    "\n",
    "1. Load Libraries\n",
    "2. Fetch Data, using a fixture to make it global.\n",
    "3. Deterministic Tests\n",
    "4. Non-deterministic Checks.\n",
    "\n",
    "<center><img width=\"600\" src=\"https://drive.google.com/uc?export=view&id=1a-nyAPNPiVh-Xb2Pu2t2p-BhSvHJS0pO\"></center>"
   ]
  },
  {
   "cell_type": "markdown",
   "metadata": {
    "id": "7UpxKxU1Ej7f"
   },
   "source": [
    "## 2.2 Load libraries"
   ]
  },
  {
   "cell_type": "code",
   "execution_count": 1,
   "metadata": {
    "id": "LASaVZuhRJlL",
    "tags": []
   },
   "outputs": [],
   "source": [
    "import wandb\n",
    "import pandas as pd\n",
    "import numpy as np\n",
    "import pytest\n",
    "import tempfile\n",
    "import scipy.stats\n",
    "import os"
   ]
  },
  {
   "cell_type": "markdown",
   "metadata": {
    "id": "Z74pHa-qHVrT"
   },
   "source": [
    "## 2.3 Logging into Wandb and Getting Our Data"
   ]
  },
  {
   "cell_type": "code",
   "execution_count": 2,
   "metadata": {
    "id": "i_n2KZu0usUv",
    "tags": []
   },
   "outputs": [
    {
     "name": "stderr",
     "output_type": "stream",
     "text": [
      "\u001b[34m\u001b[1mwandb\u001b[0m: You can find your API key in your browser here: https://wandb.ai/authorize\n"
     ]
    },
    {
     "name": "stdin",
     "output_type": "stream",
     "text": [
      "\u001b[34m\u001b[1mwandb\u001b[0m: Paste an API key from your profile and hit enter, or press ctrl+c to quit:  ········································\n"
     ]
    },
    {
     "name": "stderr",
     "output_type": "stream",
     "text": [
      "\u001b[34m\u001b[1mwandb\u001b[0m: Appending key for api.wandb.ai to your netrc file: /home/kaio/.netrc\n"
     ]
    },
    {
     "data": {
      "text/plain": [
       "True"
      ]
     },
     "execution_count": 2,
     "metadata": {},
     "output_type": "execute_result"
    }
   ],
   "source": [
    "# Login to Weights & Biases\n",
    "wandb.login(relogin=True)"
   ]
  },
  {
   "cell_type": "markdown",
   "metadata": {
    "id": "uDUt5SNUSnXm"
   },
   "source": [
    "In order to have that artifact, remember to execute the previous steps on part I of this notebook."
   ]
  },
  {
   "cell_type": "code",
   "execution_count": 4,
   "metadata": {
    "id": "izhmEwnfSnXn"
   },
   "outputs": [
    {
     "data": {
      "text/html": [
       "Finishing last run (ID:1k6pz7zo) before initializing another..."
      ],
      "text/plain": [
       "<IPython.core.display.HTML object>"
      ]
     },
     "metadata": {},
     "output_type": "display_data"
    },
    {
     "data": {
      "text/html": [
       "<br/>Waiting for W&B process to finish, PID 48360... <strong style=\"color:green\">(success).</strong>"
      ],
      "text/plain": [
       "<IPython.core.display.HTML object>"
      ]
     },
     "metadata": {},
     "output_type": "display_data"
    },
    {
     "data": {
      "application/vnd.jupyter.widget-view+json": {
       "model_id": "",
       "version_major": 2,
       "version_minor": 0
      },
      "text/plain": [
       "VBox(children=(Label(value=' 0.05MB of 0.05MB uploaded (0.00MB deduped)\\r'), FloatProgress(value=1.0, max=1.0)…"
      ]
     },
     "metadata": {},
     "output_type": "display_data"
    },
    {
     "data": {
      "text/html": [
       "<style>\n",
       "    table.wandb td:nth-child(1) { padding: 0 10px; text-align: right }\n",
       "    .wandb-row { display: flex; flex-direction: row; flex-wrap: wrap; width: 100% }\n",
       "    .wandb-col { display: flex; flex-direction: column; flex-basis: 100%; flex: 1; padding: 10px; }\n",
       "    </style>\n",
       "<div class=\"wandb-row\"><div class=\"wandb-col\">\n",
       "</div><div class=\"wandb-col\">\n",
       "</div></div>\n",
       "Synced 6 W&B file(s), 0 media file(s), 0 artifact file(s) and 1 other file(s)\n",
       "<br/>Synced <strong style=\"color:#cdcd00\">dauntless-deluge-4</strong>: <a href=\"https://wandb.ai/mlops-kaio/airbnb_eda/runs/1k6pz7zo\" target=\"_blank\">https://wandb.ai/mlops-kaio/airbnb_eda/runs/1k6pz7zo</a><br/>\n",
       "Find logs at: <code>./wandb/run-20220720_134413-1k6pz7zo/logs</code><br/>\n"
      ],
      "text/plain": [
       "<IPython.core.display.HTML object>"
      ]
     },
     "metadata": {},
     "output_type": "display_data"
    },
    {
     "data": {
      "text/html": [
       "Successfully finished last run (ID:1k6pz7zo). Initializing new run:<br/>"
      ],
      "text/plain": [
       "<IPython.core.display.HTML object>"
      ]
     },
     "metadata": {},
     "output_type": "display_data"
    },
    {
     "name": "stderr",
     "output_type": "stream",
     "text": [
      "\u001b[34m\u001b[1mwandb\u001b[0m: wandb version 0.12.21 is available!  To upgrade, please run:\n",
      "\u001b[34m\u001b[1mwandb\u001b[0m:  $ pip install wandb --upgrade\n"
     ]
    },
    {
     "data": {
      "text/html": [
       "\n",
       "                    Syncing run <strong><a href=\"https://wandb.ai/mlops-kaio/airbnb_eda/runs/33uax5wd\" target=\"_blank\">denim-cloud-5</a></strong> to <a href=\"https://wandb.ai/mlops-kaio/airbnb_eda\" target=\"_blank\">Weights & Biases</a> (<a href=\"https://docs.wandb.com/integrations/jupyter.html\" target=\"_blank\">docs</a>).<br/>\n",
       "\n",
       "                "
      ],
      "text/plain": [
       "<IPython.core.display.HTML object>"
      ]
     },
     "metadata": {},
     "output_type": "display_data"
    }
   ],
   "source": [
    "run = wandb.init(project=\"airbnb_eda\", job_type=\"datachecks\", save_code=True)\n",
    "\n",
    "# donwload the latest version of artifact raw_data.csv\n",
    "artifact = run.use_artifact(\"airbnb_eda/clean_data.csv:latest\")\n",
    "\n",
    "# create a dataframe from the artifact\n",
    "clean_data_df = pd.read_csv(artifact.file())"
   ]
  },
  {
   "cell_type": "markdown",
   "metadata": {
    "id": "rg3VQ0IvSnXp"
   },
   "source": [
    "## 2.4 Doing some Tests"
   ]
  },
  {
   "cell_type": "markdown",
   "metadata": {
    "id": "s8TDR7urA0FO"
   },
   "source": [
    "### 2.4.1 Deterministic Tests"
   ]
  },
  {
   "cell_type": "code",
   "execution_count": 20,
   "metadata": {
    "id": "gNZWzlI2SnXp"
   },
   "outputs": [],
   "source": [
    "def test_column_presence_and_type():\n",
    "    \"\"\"\n",
    "    This function checks all columns and types.\n",
    "    \"\"\"\n",
    "    \n",
    "    required_columns = {\n",
    "        \"neighbourhood_cleansed\": pd.api.types.is_object_dtype,\n",
    "        \"property_type\": pd.api.types.is_object_dtype,\n",
    "        \"room_type\": pd.api.types.is_object_dtype,\n",
    "        \"accommodates\": pd.api.types.is_int64_dtype,\n",
    "        \"bathrooms_text\": pd.api.types.is_object_dtype,\n",
    "        \"bedrooms\": pd.api.types.is_float_dtype,\n",
    "        \"beds\": pd.api.types.is_float_dtype,\n",
    "        \"has_availability\": pd.api.types.is_object_dtype,\n",
    "        \"instant_bookable\": pd.api.types.is_object_dtype,\n",
    "        \"price\": pd.api.types.is_float_dtype,\n",
    "        \"minimum_nights_avg_ntm\": pd.api.types.is_float_dtype,\n",
    "        \"maximum_nights_avg_ntm\": pd.api.types.is_float_dtype,\n",
    "        \"review_scores_rating\": pd.api.types.is_float_dtype,\n",
    "        \"review_scores_accuracy\": pd.api.types.is_float_dtype,\n",
    "        \"review_scores_cleanliness\": pd.api.types.is_float_dtype,\n",
    "        \"review_scores_checkin\": pd.api.types.is_float_dtype,\n",
    "        \"review_scores_communication\": pd.api.types.is_float_dtype,\n",
    "        \"review_scores_location\": pd.api.types.is_float_dtype,\n",
    "        \"review_scores_value\": pd.api.types.is_float_dtype,\n",
    "        \"reviews_per_month\": pd.api.types.is_float_dtype,\n",
    "        \"minimum_minimum_nights\": pd.api.types.is_int64_dtype,\n",
    "        \"maximum_minimum_nights\": pd.api.types.is_int64_dtype,\n",
    "        \"minimum_maximum_nights\": pd.api.types.is_int64_dtype,\n",
    "        \"maximum_maximum_nights\": pd.api.types.is_int64_dtype,\n",
    "        \"availability_30\": pd.api.types.is_int64_dtype,\n",
    "        \"availability_60\": pd.api.types.is_int64_dtype,\n",
    "        \"availability_90\": pd.api.types.is_int64_dtype,\n",
    "        \"availability_365\": pd.api.types.is_int64_dtype,\n",
    "        \"number_of_reviews\": pd.api.types.is_int64_dtype,\n",
    "        \"number_of_reviews_ltm\": pd.api.types.is_int64_dtype,\n",
    "        \"number_of_reviews_l30d\": pd.api.types.is_int64_dtype,\n",
    "        \"calculated_host_listings_count\": pd.api.types.is_int64_dtype,\n",
    "        \"calculated_host_listings_count_entire_homes\": pd.api.types.is_int64_dtype,\n",
    "        \"calculated_host_listings_count_private_rooms\": pd.api.types.is_int64_dtype,\n",
    "        \"calculated_host_listings_count_shared_rooms\": pd.api.types.is_int64_dtype,\n",
    "        \"minimum_nights\": pd.api.types.is_int64_dtype,\n",
    "        \"maximum_nights\": pd.api.types.is_int64_dtype,\n",
    "    }\n",
    "\n",
    "    # Check column presence\n",
    "    assert set(clean_data_df.columns.values).issuperset(set(required_columns.keys()))\n",
    "\n",
    "    for col_name, format_verification_funct in required_columns.items():\n",
    "\n",
    "        assert format_verification_funct(clean_data_df[col_name]), f\"Column {col_name} failed test {format_verification_funct}\""
   ]
  },
  {
   "cell_type": "code",
   "execution_count": 21,
   "metadata": {
    "id": "OZR7Olu76mP5"
   },
   "outputs": [],
   "source": [
    "def test_column_ranges():\n",
    "    ranges = {\n",
    "        \"accommodates\": (1, 16),\n",
    "        \"bedrooms\": (1, 20),\n",
    "        \"beds\": (1, 50),\n",
    "        \"review_scores_cleanliness\": (0, 5),\n",
    "    }\n",
    "\n",
    "    for col_name, (minimum, maximum) in ranges.items():\n",
    "\n",
    "        assert clean_data_df[col_name].dropna().between(minimum, maximum).all(), (\n",
    "            f\"Column {col_name} failed the test. Should be between {minimum} and {maximum}, \"\n",
    "            f\"instead min={clean_data_df[col_name].min()} and max={clean_data_df[col_name].max()}\"\n",
    "        )"
   ]
  },
  {
   "cell_type": "markdown",
   "metadata": {
    "id": "f1ZH9Q0wAu6X"
   },
   "source": [
    "### 2.4.2 Non-deterministic Test"
   ]
  },
  {
   "cell_type": "code",
   "execution_count": 22,
   "metadata": {
    "id": "OyXZ2gi3jMat"
   },
   "outputs": [],
   "source": [
    "# donwload the latest version of artifacts data_test.csv and data_train.csv\n",
    "artifact_train = run.use_artifact(\"airbnb_eda/data_train.csv:latest\")\n",
    "artifact_test = run.use_artifact(\"airbnb_eda/data_test.csv:latest\")\n",
    "\n",
    "# create a dataframe from each artifact\n",
    "df_train = pd.read_csv(artifact_train.file())\n",
    "df_test  = pd.read_csv(artifact_test.file())"
   ]
  },
  {
   "cell_type": "code",
   "execution_count": 23,
   "metadata": {
    "id": "jZtDIQvt_Wbg"
   },
   "outputs": [],
   "source": [
    "def test_kolmogorov_smirnov():\n",
    "\n",
    "    sample1 = df_train\n",
    "    sample2 = df_test\n",
    "    ks_alpha = 0.05\n",
    "\n",
    "    numerical_columns = [\n",
    "        \"accommodates\",\n",
    "        \"bedrooms\",\n",
    "        \"beds\",\n",
    "        \"price\",\n",
    "        \"minimum_nights_avg_ntm\",\n",
    "        \"maximum_nights_avg_ntm\",\n",
    "        \"review_scores_rating\",\n",
    "        \"review_scores_accuracy\",\n",
    "        \"review_scores_cleanliness\",\n",
    "        \"review_scores_checkin\",\n",
    "        \"review_scores_communication\",\n",
    "        \"review_scores_location\",\n",
    "        \"review_scores_value\",\n",
    "        \"reviews_per_month\",\n",
    "        \"minimum_minimum_nights\",\n",
    "        \"maximum_minimum_nights\",\n",
    "        \"minimum_maximum_nights\",\n",
    "        \"maximum_maximum_nights\",\n",
    "        \"availability_30\",\n",
    "        \"availability_60\",\n",
    "        \"availability_90\",\n",
    "        \"availability_365\",\n",
    "        \"number_of_reviews\",\n",
    "        \"number_of_reviews_ltm\",\n",
    "        \"number_of_reviews_l30d\",\n",
    "        \"calculated_host_listings_count\",\n",
    "        \"calculated_host_listings_count_entire_homes\",\n",
    "        \"calculated_host_listings_count_private_rooms\",\n",
    "        \"calculated_host_listings_count_shared_rooms\",\n",
    "        \"minimum_nights\",\n",
    "        \"maximum_nights\",\n",
    "    ]\n",
    "\n",
    "    # Bonferroni correction for multiple hypothesis testing\n",
    "    alpha_prime = 1 - (1 - ks_alpha)**(1 / len(numerical_columns))\n",
    "\n",
    "    for col in numerical_columns:\n",
    "\n",
    "        # two-sided: The null hypothesis is that the two distributions are identical\n",
    "        # the alternative is that they are not identical.\n",
    "        ts, p_value = scipy.stats.ks_2samp(\n",
    "            sample1[col],\n",
    "            sample2[col],\n",
    "            alternative='two-sided'\n",
    "        )\n",
    "\n",
    "        # NOTE: as always, the p-value should be interpreted as the probability of\n",
    "        # obtaining a test statistic (TS) equal or more extreme that the one we got\n",
    "        # by chance, when the null hypothesis is true. If this probability is not\n",
    "        # large enough, this dataset should be looked at carefully, hence we fail\n",
    "        assert p_value > alpha_prime"
   ]
  },
  {
   "cell_type": "code",
   "execution_count": 24,
   "metadata": {},
   "outputs": [],
   "source": [
    "# Executing tests\n",
    "test_kolmogorov_smirnov()\n",
    "test_column_presence_and_type()\n",
    "test_column_ranges()"
   ]
  },
  {
   "cell_type": "code",
   "execution_count": 25,
   "metadata": {
    "id": "fCyy4IweNZwC"
   },
   "outputs": [
    {
     "data": {
      "text/html": [
       "<br/>Waiting for W&B process to finish, PID 48452... <strong style=\"color:green\">(success).</strong>"
      ],
      "text/plain": [
       "<IPython.core.display.HTML object>"
      ]
     },
     "metadata": {},
     "output_type": "display_data"
    },
    {
     "data": {
      "application/vnd.jupyter.widget-view+json": {
       "model_id": "",
       "version_major": 2,
       "version_minor": 0
      },
      "text/plain": [
       "VBox(children=(Label(value=' 0.09MB of 0.09MB uploaded (0.00MB deduped)\\r'), FloatProgress(value=1.0, max=1.0)…"
      ]
     },
     "metadata": {},
     "output_type": "display_data"
    },
    {
     "data": {
      "text/html": [
       "<style>\n",
       "    table.wandb td:nth-child(1) { padding: 0 10px; text-align: right }\n",
       "    .wandb-row { display: flex; flex-direction: row; flex-wrap: wrap; width: 100% }\n",
       "    .wandb-col { display: flex; flex-direction: column; flex-basis: 100%; flex: 1; padding: 10px; }\n",
       "    </style>\n",
       "<div class=\"wandb-row\"><div class=\"wandb-col\">\n",
       "</div><div class=\"wandb-col\">\n",
       "</div></div>\n",
       "Synced 6 W&B file(s), 0 media file(s), 0 artifact file(s) and 0 other file(s)\n",
       "<br/>Synced <strong style=\"color:#cdcd00\">denim-cloud-5</strong>: <a href=\"https://wandb.ai/mlops-kaio/airbnb_eda/runs/33uax5wd\" target=\"_blank\">https://wandb.ai/mlops-kaio/airbnb_eda/runs/33uax5wd</a><br/>\n",
       "Find logs at: <code>./wandb/run-20220720_134652-33uax5wd/logs</code><br/>\n"
      ],
      "text/plain": [
       "<IPython.core.display.HTML object>"
      ]
     },
     "metadata": {},
     "output_type": "display_data"
    }
   ],
   "source": [
    "run.finish()"
   ]
  },
  {
   "cell_type": "code",
   "execution_count": null,
   "metadata": {},
   "outputs": [],
   "source": []
  }
 ],
 "metadata": {
  "colab": {
   "collapsed_sections": [],
   "name": "DataChecks.ipynb",
   "provenance": []
  },
  "kernelspec": {
   "display_name": "Python 3 (ipykernel)",
   "language": "python",
   "name": "python3"
  },
  "language_info": {
   "codemirror_mode": {
    "name": "ipython",
    "version": 3
   },
   "file_extension": ".py",
   "mimetype": "text/x-python",
   "name": "python",
   "nbconvert_exporter": "python",
   "pygments_lexer": "ipython3",
   "version": "3.8.13"
  }
 },
 "nbformat": 4,
 "nbformat_minor": 4
}
